{
 "cells": [
  {
   "cell_type": "code",
   "execution_count": 1,
   "id": "28efb5bb",
   "metadata": {},
   "outputs": [],
   "source": [
    "# !pip install \"cloud-sql-python-connector[psycopg2]\" sqlalchemy psycopg2-binary pg8000"
   ]
  },
  {
   "cell_type": "code",
   "execution_count": 2,
   "id": "89ecf823",
   "metadata": {},
   "outputs": [],
   "source": [
    "from sqlalchemy import create_engine\n",
    "from sqlalchemy.orm import sessionmaker\n",
    "from typing import Generator\n",
    "\n",
    "DB_USER = \"postgres\"  # Replace with your database user\n",
    "DB_PASSWORD = \"google99\"\n",
    "DB_HOST = \"34.60.85.117\"    \n",
    "DB_PORT = \"5432\"  # Default PostgreSQL port is 5432\n",
    "DB_NAME = \"postgres\"  # Replace with your database name\n",
    "\n",
    "\n",
    "DB_URL = f\"postgresql://{DB_USER}:{DB_PASSWORD}@{DB_HOST}:{DB_PORT}/{DB_NAME}\"\n",
    "\n",
    "x = create_engine(DB_URL, echo=True)\n",
    "\n",
    "SessionLocal = sessionmaker(autocommit=False, autoflush=False, bind=x)\n",
    "\n",
    "\n",
    "def get_db() -> Generator:\n",
    "    db = SessionLocal()\n",
    "    try:\n",
    "        yield db\n",
    "    finally:\n",
    "        db.close()\n",
    "db = get_db()\n",
    "\n",
    "\n"
   ]
  },
  {
   "cell_type": "code",
   "execution_count": 3,
   "id": "7016ba3e",
   "metadata": {},
   "outputs": [
    {
     "name": "stdout",
     "output_type": "stream",
     "text": [
      "2025-06-22 11:06:30,176 INFO sqlalchemy.engine.Engine select pg_catalog.version()\n",
      "2025-06-22 11:06:30,177 INFO sqlalchemy.engine.Engine [raw sql] {}\n",
      "2025-06-22 11:06:30,688 INFO sqlalchemy.engine.Engine select current_schema()\n",
      "2025-06-22 11:06:30,690 INFO sqlalchemy.engine.Engine [raw sql] {}\n",
      "2025-06-22 11:06:31,201 INFO sqlalchemy.engine.Engine show standard_conforming_strings\n",
      "2025-06-22 11:06:31,202 INFO sqlalchemy.engine.Engine [raw sql] {}\n",
      "2025-06-22 11:06:31,714 INFO sqlalchemy.engine.Engine BEGIN (implicit)\n",
      "2025-06-22 11:06:31,718 INFO sqlalchemy.engine.Engine SELECT NOW();\n",
      "2025-06-22 11:06:31,719 INFO sqlalchemy.engine.Engine [generated in 0.00180s] {}\n",
      "Database current time: 2025-06-22 05:36:31.848208+00:00\n",
      "Local Python current time: 2025-06-22 11:06:32.233357\n",
      "2025-06-22 11:06:32,233 INFO sqlalchemy.engine.Engine ROLLBACK\n"
     ]
    }
   ],
   "source": [
    "from sqlalchemy import text\n",
    "from datetime import datetime\n",
    "\n",
    "# This yields a session from your generator\n",
    "db_session = next(get_db())\n",
    "\n",
    "try:\n",
    "    # Run a simple SQL query to fetch current time from PostgreSQL\n",
    "    result = db_session.execute(text(\"SELECT NOW();\"))\n",
    "    current_time = result.scalar_one()\n",
    "    print(\"Database current time:\", current_time)\n",
    "\n",
    "    # Optional: also print Python-side current time\n",
    "    print(\"Local Python current time:\", datetime.now())\n",
    "except Exception as e:\n",
    "    print(\"Database connection failed:\", e)\n",
    "finally:\n",
    "    db_session.close()\n"
   ]
  },
  {
   "cell_type": "code",
   "execution_count": null,
   "id": "a2deb02a",
   "metadata": {},
   "outputs": [],
   "source": []
  },
  {
   "cell_type": "code",
   "execution_count": null,
   "id": "31a6b8b1",
   "metadata": {},
   "outputs": [],
   "source": []
  },
  {
   "cell_type": "code",
   "execution_count": null,
   "id": "10850c82",
   "metadata": {},
   "outputs": [],
   "source": []
  },
  {
   "cell_type": "code",
   "execution_count": null,
   "id": "a1d2d13f",
   "metadata": {},
   "outputs": [],
   "source": []
  },
  {
   "cell_type": "code",
   "execution_count": null,
   "id": "5d132500",
   "metadata": {},
   "outputs": [],
   "source": []
  }
 ],
 "metadata": {
  "kernelspec": {
   "display_name": "p_dev",
   "language": "python",
   "name": "python3"
  },
  "language_info": {
   "codemirror_mode": {
    "name": "ipython",
    "version": 3
   },
   "file_extension": ".py",
   "mimetype": "text/x-python",
   "name": "python",
   "nbconvert_exporter": "python",
   "pygments_lexer": "ipython3",
   "version": "3.11.8"
  }
 },
 "nbformat": 4,
 "nbformat_minor": 5
}
