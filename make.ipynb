{
 "cells": [
  {
   "cell_type": "code",
   "execution_count": 1,
   "id": "8f34239c",
   "metadata": {},
   "outputs": [
    {
     "data": {
      "text/plain": [
       "True"
      ]
     },
     "execution_count": 1,
     "metadata": {},
     "output_type": "execute_result"
    }
   ],
   "source": [
    "from dotenv import load_dotenv\n",
    "load_dotenv()"
   ]
  },
  {
   "cell_type": "code",
   "execution_count": 6,
   "id": "ff285c13",
   "metadata": {},
   "outputs": [],
   "source": [
    "query = \"Did Pope Francis endorse Donald Trump in 2016\""
   ]
  },
  {
   "cell_type": "code",
   "execution_count": 4,
   "id": "4dd4a540",
   "metadata": {},
   "outputs": [],
   "source": [
    "from fact_checker_agent.tool.search_executor import SearchExecutor\n",
    "\n",
    "exe = SearchExecutor()"
   ]
  },
  {
   "cell_type": "code",
   "execution_count": 7,
   "id": "010bcb32",
   "metadata": {},
   "outputs": [
    {
     "data": {
      "text/html": [
       "<pre style=\"white-space:pre;overflow-x:auto;line-height:normal;font-family:Menlo,'DejaVu Sans Mono',consolas,'Courier New',monospace\">15:53:30.160 | <span style=\"color: #008080; text-decoration-color: #008080\">INFO</span>    | prefect - Starting temporary server on <span style=\"color: #0000ff; text-decoration-color: #0000ff\">http://127.0.0.1:8248</span>\n",
       "See <span style=\"color: #0000ff; text-decoration-color: #0000ff\">https://docs.prefect.io/3.0/manage/self-host#self-host-a-prefect-server</span> for more information on running a dedicated Prefect server.\n",
       "</pre>\n"
      ],
      "text/plain": [
       "15:53:30.160 | \u001b[36mINFO\u001b[0m    | prefect - Starting temporary server on \u001b[94mhttp://127.0.0.1:8248\u001b[0m\n",
       "See \u001b[94mhttps://docs.prefect.io/3.0/manage/self-host#self-host-a-prefect-server\u001b[0m for more information on running a dedicated Prefect server.\n"
      ]
     },
     "metadata": {},
     "output_type": "display_data"
    },
    {
     "data": {
      "text/html": [
       "<pre style=\"white-space:pre;overflow-x:auto;line-height:normal;font-family:Menlo,'DejaVu Sans Mono',consolas,'Courier New',monospace\">15:53:33.454 | <span style=\"color: #008080; text-decoration-color: #008080\">INFO</span>    | Task run 'extract_search_information' - Navigated to Google Search for: Did Pope Francis endorse Donald Trump in 2016\n",
       "</pre>\n"
      ],
      "text/plain": [
       "15:53:33.454 | \u001b[36mINFO\u001b[0m    | Task run 'extract_search_information' - Navigated to Google Search for: Did Pope Francis endorse Donald Trump in 2016\n"
      ]
     },
     "metadata": {},
     "output_type": "display_data"
    },
    {
     "data": {
      "text/html": [
       "<pre style=\"white-space:pre;overflow-x:auto;line-height:normal;font-family:Menlo,'DejaVu Sans Mono',consolas,'Courier New',monospace\">15:53:34.458 | <span style=\"color: #008080; text-decoration-color: #008080\">INFO</span>    | Task run 'extract_search_information' - Scrolling down page 1 to load all results...\n",
       "</pre>\n"
      ],
      "text/plain": [
       "15:53:34.458 | \u001b[36mINFO\u001b[0m    | Task run 'extract_search_information' - Scrolling down page 1 to load all results...\n"
      ]
     },
     "metadata": {},
     "output_type": "display_data"
    },
    {
     "data": {
      "text/html": [
       "<pre style=\"white-space:pre;overflow-x:auto;line-height:normal;font-family:Menlo,'DejaVu Sans Mono',consolas,'Courier New',monospace\">15:53:37.502 | <span style=\"color: #008080; text-decoration-color: #008080\">INFO</span>    | Task run 'extract_search_information' - Captured HTML from page 1.\n",
       "</pre>\n"
      ],
      "text/plain": [
       "15:53:37.502 | \u001b[36mINFO\u001b[0m    | Task run 'extract_search_information' - Captured HTML from page 1.\n"
      ]
     },
     "metadata": {},
     "output_type": "display_data"
    },
    {
     "data": {
      "text/html": [
       "<pre style=\"white-space:pre;overflow-x:auto;line-height:normal;font-family:Menlo,'DejaVu Sans Mono',consolas,'Courier New',monospace\">15:53:37.504 | <span style=\"color: #008080; text-decoration-color: #008080\">INFO</span>    | Task run 'extract_search_information' - Attempting to navigate to page 2...\n",
       "</pre>\n"
      ],
      "text/plain": [
       "15:53:37.504 | \u001b[36mINFO\u001b[0m    | Task run 'extract_search_information' - Attempting to navigate to page 2...\n"
      ]
     },
     "metadata": {},
     "output_type": "display_data"
    },
    {
     "data": {
      "text/html": [
       "<pre style=\"white-space:pre;overflow-x:auto;line-height:normal;font-family:Menlo,'DejaVu Sans Mono',consolas,'Courier New',monospace\">15:53:37.505 | <span style=\"color: #008080; text-decoration-color: #008080\">INFO</span>    | Task run 'extract_search_information' -   - Trying selector #1: a[aria-label=\"Next page\"]\n",
       "</pre>\n"
      ],
      "text/plain": [
       "15:53:37.505 | \u001b[36mINFO\u001b[0m    | Task run 'extract_search_information' -   - Trying selector #1: a[aria-label=\"Next page\"]\n"
      ]
     },
     "metadata": {},
     "output_type": "display_data"
    },
    {
     "data": {
      "text/html": [
       "<pre style=\"white-space:pre;overflow-x:auto;line-height:normal;font-family:Menlo,'DejaVu Sans Mono',consolas,'Courier New',monospace\">15:53:37.514 | <span style=\"color: #d7d700; text-decoration-color: #d7d700\">WARNING</span> | Task run 'extract_search_information' -   - Selector not found. Trying next one.\n",
       "</pre>\n"
      ],
      "text/plain": [
       "15:53:37.514 | \u001b[38;5;184mWARNING\u001b[0m | Task run 'extract_search_information' -   - Selector not found. Trying next one.\n"
      ]
     },
     "metadata": {},
     "output_type": "display_data"
    },
    {
     "data": {
      "text/html": [
       "<pre style=\"white-space:pre;overflow-x:auto;line-height:normal;font-family:Menlo,'DejaVu Sans Mono',consolas,'Courier New',monospace\">15:53:37.515 | <span style=\"color: #008080; text-decoration-color: #008080\">INFO</span>    | Task run 'extract_search_information' -   - Trying selector #2: a[aria-label=\"Page 2\"]\n",
       "</pre>\n"
      ],
      "text/plain": [
       "15:53:37.515 | \u001b[36mINFO\u001b[0m    | Task run 'extract_search_information' -   - Trying selector #2: a[aria-label=\"Page 2\"]\n"
      ]
     },
     "metadata": {},
     "output_type": "display_data"
    },
    {
     "data": {
      "text/html": [
       "<pre style=\"white-space:pre;overflow-x:auto;line-height:normal;font-family:Menlo,'DejaVu Sans Mono',consolas,'Courier New',monospace\">15:53:38.761 | <span style=\"color: #008080; text-decoration-color: #008080\">INFO</span>    | Task run 'extract_search_information' -   - Success! Navigated to next page.\n",
       "</pre>\n"
      ],
      "text/plain": [
       "15:53:38.761 | \u001b[36mINFO\u001b[0m    | Task run 'extract_search_information' -   - Success! Navigated to next page.\n"
      ]
     },
     "metadata": {},
     "output_type": "display_data"
    },
    {
     "data": {
      "text/html": [
       "<pre style=\"white-space:pre;overflow-x:auto;line-height:normal;font-family:Menlo,'DejaVu Sans Mono',consolas,'Courier New',monospace\">15:53:40.267 | <span style=\"color: #008080; text-decoration-color: #008080\">INFO</span>    | Task run 'extract_search_information' - Scrolling down page 2 to load all results...\n",
       "</pre>\n"
      ],
      "text/plain": [
       "15:53:40.267 | \u001b[36mINFO\u001b[0m    | Task run 'extract_search_information' - Scrolling down page 2 to load all results...\n"
      ]
     },
     "metadata": {},
     "output_type": "display_data"
    },
    {
     "data": {
      "text/html": [
       "<pre style=\"white-space:pre;overflow-x:auto;line-height:normal;font-family:Menlo,'DejaVu Sans Mono',consolas,'Courier New',monospace\">15:53:43.316 | <span style=\"color: #008080; text-decoration-color: #008080\">INFO</span>    | Task run 'extract_search_information' - Captured HTML from page 2.\n",
       "</pre>\n"
      ],
      "text/plain": [
       "15:53:43.316 | \u001b[36mINFO\u001b[0m    | Task run 'extract_search_information' - Captured HTML from page 2.\n"
      ]
     },
     "metadata": {},
     "output_type": "display_data"
    },
    {
     "data": {
      "text/html": [
       "<pre style=\"white-space:pre;overflow-x:auto;line-height:normal;font-family:Menlo,'DejaVu Sans Mono',consolas,'Courier New',monospace\">15:53:43.317 | <span style=\"color: #008080; text-decoration-color: #008080\">INFO</span>    | Task run 'extract_search_information' - Closing the WebDriver.\n",
       "</pre>\n"
      ],
      "text/plain": [
       "15:53:43.317 | \u001b[36mINFO\u001b[0m    | Task run 'extract_search_information' - Closing the WebDriver.\n"
      ]
     },
     "metadata": {},
     "output_type": "display_data"
    },
    {
     "data": {
      "text/html": [
       "<pre style=\"white-space:pre;overflow-x:auto;line-height:normal;font-family:Menlo,'DejaVu Sans Mono',consolas,'Courier New',monospace\">15:53:43.455 | <span style=\"color: #008080; text-decoration-color: #008080\">INFO</span>    | Task run 'extract_search_information' - Found 14 results using selector 'div.MjjYud'.\n",
       "</pre>\n"
      ],
      "text/plain": [
       "15:53:43.455 | \u001b[36mINFO\u001b[0m    | Task run 'extract_search_information' - Found 14 results using selector 'div.MjjYud'.\n"
      ]
     },
     "metadata": {},
     "output_type": "display_data"
    },
    {
     "data": {
      "text/html": [
       "<pre style=\"white-space:pre;overflow-x:auto;line-height:normal;font-family:Menlo,'DejaVu Sans Mono',consolas,'Courier New',monospace\">15:53:43.458 | <span style=\"color: #008080; text-decoration-color: #008080\">INFO</span>    | Task run 'extract_search_information' - Finished in state <span style=\"color: #008000; text-decoration-color: #008000\">Completed</span>()\n",
       "</pre>\n"
      ],
      "text/plain": [
       "15:53:43.458 | \u001b[36mINFO\u001b[0m    | Task run 'extract_search_information' - Finished in state \u001b[32mCompleted\u001b[0m()\n"
      ]
     },
     "metadata": {},
     "output_type": "display_data"
    }
   ],
   "source": [
    "res = exe.extract_search_information(query= query)"
   ]
  },
  {
   "cell_type": "code",
   "execution_count": 8,
   "id": "626ce3fc",
   "metadata": {},
   "outputs": [
    {
     "data": {
      "text/plain": [
       "([BasePayload(url='https://www.cnbc.com/2016/12/30/read-all-about-it-the-biggest-fake-news-stories-of-2016.html', title='Read all about it: The biggest fake news stories of 2016', summary='', short_description='', result_rank=None, rank_reason=None, is_youtube=None),\n",
       "  BasePayload(url='https://www.bbc.com/news/world-europe-38244274', title=\"Pope Francis condemns 'media disinformation'\", summary='', short_description='', result_rank=None, rank_reason=None, is_youtube=None),\n",
       "  BasePayload(url='https://www.factcheck.org/2016/10/did-the-pope-endorse-trump/', title='Did the Pope Endorse Trump?', summary='', short_description='', result_rank=None, rank_reason=None, is_youtube=None),\n",
       "  BasePayload(url='https://www.nbcnews.com/politics/politics-news/fake-news-went-viral-2016-expert-studied-who-clicked-n836581', title=\"'Fake news' went viral in 2016. This expert studied who ...\", summary='', short_description='', result_rank=None, rank_reason=None, is_youtube=None),\n",
       "  BasePayload(url='https://hwb.gov.wales/api/storage/2918b780-285a-4c34-b933-5bbb7b294914/Fake%20News%20Lesson%20English.pdf', title='Fake News', summary='', short_description='', result_rank=None, rank_reason=None, is_youtube=None),\n",
       "  BasePayload(url='https://www.science.org/content/article/majority-americans-were-not-exposed-fake-news-2016-us-election-twitter-study-suggests', title=\"Majority of Americans were not exposed to 'fake news' in ...\", summary='', short_description='', result_rank=None, rank_reason=None, is_youtube=None),\n",
       "  BasePayload(url='https://www.researchgate.net/figure/Using-the-example-of-the-Pope-Francis-Shocks-World-Endorses-Donald-Trump-for-President_fig3_339031969', title=\"Using the example of the 'Pope Francis Shocks World ...\", summary='', short_description='', result_rank=None, rank_reason=None, is_youtube=None),\n",
       "  BasePayload(url='https://apnews.com/general-news-86073aedf0c245eaa8fbbecd8ffff791', title='Pope warns about fake news - from experience', summary='', short_description='', result_rank=None, rank_reason=None, is_youtube=None),\n",
       "  BasePayload(url='https://www.sltrib.com/religion/global/2018/01/24/pope-francis-to-deliver-message-decrying-fake-news/', title=\"Pope Francis to deliver message decrying 'fake news'\", summary='', short_description='', result_rank=None, rank_reason=None, is_youtube=None),\n",
       "  BasePayload(url='https://www.chicagobooth.edu/review/did-fake-news-swing-election-trump', title='Did Fake News Swing the Election for Trump?', summary='', short_description='', result_rank=None, rank_reason=None, is_youtube=None)],\n",
       " PageContent(images=[], full_text='Did Pope Francis endorse Donald Trump in 2016 - Google Search Please click here if you are not redirected within a few seconds.Accessibility linksSkip to main contentAccessibility helpAccessibility feedback Press / to jump to the search boxDid Pope Francis endorse Donald Trump in 2016 Choose what you’re giving feedback onDeleteSee moreDeleteSee moreReport inappropriate predictions Quick SettingsSign inFilters and topicsAllNewsImagesVideosShort videosShoppingForumsMoreWebBooksMapsToolsAny timeAny timePast hourPast 24 hoursPast weekPast monthPast yearCustom range...Customised date rangeFromToGoAll resultsAll resultsVerbatim Advanced Search About 1,75,000 results (0.31 seconds) Ctrl+Shift+X to select Search ResultsRead all about it: The biggest fake news stories of 2016CNBChttps://www.cnbc.com › 2016/12/30 › read-all-about-it-...CNBChttps://www.cnbc.com › 2016/12/30 › read-all-about-it-...30 Dec 2016 — This year has been a roller-coaster one for news, full of political upsets and shock outcomes. But while the Brexit vote and the U.S. election were making headlines, so too were apparently genuine stories that Pope Francis had endorsed Donald Trump and Hillary Clinton sold weapons to ISIS.Pope Francis condemns \\'media disinformation\\'BBChttps://www.bbc.com › news › world-europe-38244274BBChttps://www.bbc.com › news › world-europe-382442747 Dec 2016 — Pope Francis has condemned disinformation as \"probably the greatest damage that the media can do\". His comments come amid warnings of a \"fake news\" crisis in online media.Did the Pope Endorse Trump?FactCheck.orghttps://www.factcheck.org › 2016/10 › did-the-pope-en...FactCheck.orghttps://www.factcheck.org › 2016/10 › did-the-pope-en...24 Oct 2016 — Q: Did Pope Francis endorse Donald Trump? Is Tom Hanks supporting him? A: No, the pope has not endorsed him, and Tom Hanks does not support him.\\'Fake news\\' went viral in 2016. This expert studied who ...NBC Newshttps://www.nbcnews.com › politics › politics-news › fa...NBC Newshttps://www.nbcnews.com › politics › politics-news › fa...14 Jan 2018 — Fake news sites became a viral phenomenon in 2016, but did they sway the election? NBC News talked to a professor who co-authored a major study on their impact.Fake NewsHwbhttps://hwb.gov.wales › api › storageHwbhttps://hwb.gov.wales › api › storagePDFHis comments come amid warnings of a \"fake news\" crisis in online media following last month\\'s US elections. Pope Francis Shocks World, Endorses. Donald Trump for President! The Pope himself fell victim to a ...11 pagesMajority of Americans were not exposed to \\'fake news\\' in ...Science | AAAShttps://www.science.org › News › Latest NewsScience | AAAShttps://www.science.org › News › Latest News24 Jan 2019 — In the run-up to the 2016 U.S. presidential election, a website calling itself \"WTO5 News\" posted the headline \"Pope Francis shocks world, endorses Donald Trump for president.\" Pope Francis never made such an endorsement, but that didn\\'t stop the story from being shared, liked, or commented on ...Using the example of the \\'Pope Francis Shocks World ...ResearchGatehttps://www.researchgate.net › Usi...ResearchGatehttps://www.researchgate.net › Usi... · Translate this pageDownload scientific diagram | Using the example of the \\'Pope Francis Shocks World, Endorses Donald Trump for President, Releases Statement\\' fabricated news articles to test the Three Phases of Information Disorder from publication: INFORMATION DISORDER : Toward an interdisciplinary framework for research and policy ...Pope warns about fake news - from experienceAP Newshttps://apnews.com › ...AP Newshttps://apnews.com › ...7 Dec 2016 — Pope Francis is warning about the dangers of fake news, and he should know: Earlier this year, he was reported — falsely — to have endorsed Donald Trump for U.S. president ...Pope Francis to deliver message decrying \\'fake news\\'The Salt Lake Tribunehttps://www.sltrib.com › religion › global › 2018/01/24The Salt Lake Tribunehttps://www.sltrib.com › religion › global › 2018/01/2423 Jan 2018 — Pope Francis is preparing an address on “fake news” expected to tackle the thorny issue of journalistic integrity in a speech marking World Communications Day.Did Fake News Swing the Election for Trump?The University of Chicago Booth School of Businesshttps://www.chicagobooth.edu › review › did-fake-news-...The University of Chicago Booth School of Businesshttps://www.chicagobooth.edu › review › did-fake-news-...20 Feb 2017 — During the US presidential election, many voters read the surprising news that Pope Francis had endorsed Republican Donald Trump. Others read the even more shocking revelation that the Clinton Foundation was tied to a pedophile sex ring operating out of a pizza parlor. Often these articles were ...People also search forWhat organizations endorse TrumpWTOE 5 News websiteEnding the FedPizzagatePage navigation12345678910Next Footer linksIndiaAndheri West, Mumbai, Maharashtra - From your IP addressUpdate locationCan\\'t update your locationLearn moreUpdating location…HelpSend feedbackPrivacyTerms Google apps'))"
      ]
     },
     "execution_count": 8,
     "metadata": {},
     "output_type": "execute_result"
    }
   ],
   "source": [
    "res"
   ]
  },
  {
   "cell_type": "code",
   "execution_count": 5,
   "id": "b873dbdd",
   "metadata": {},
   "outputs": [
    {
     "name": "stdout",
     "output_type": "stream",
     "text": [
      "Extracted 1 total links from page.\n",
      "Extracted 0 relevant images.\n",
      "Extracted text content (length: 757 chars).\n",
      "Successfully extracted content from: https://www.researchgate.net/figure/Using-the-example-of-the-Pope-Francis-Shocks-World-Endorses-Donald-Trump-for-President_fig3_339031969\n",
      "Extracted 86 total links from page.\n",
      "Extracted 0 relevant images.\n",
      "Extracted text content (length: 6578 chars).\n",
      "Successfully extracted content from: https://www.factcheck.org/2016/10/did-the-pope-endorse-trump/\n",
      "Extracted 54 total links from page.\n",
      "Extracted 20 relevant images.\n",
      "Extracted text content (length: 2309 chars).\n",
      "Successfully extracted content from: https://www.bbc.com/news/world-europe-38244274\n",
      "Extracted 1 total links from page.\n",
      "Extracted 0 relevant images.\n",
      "Extracted text content (length: 339 chars).\n",
      "Successfully extracted content from: https://www.science.org/content/article/majority-americans-were-not-exposed-fake-news-2016-us-election-twitter-study-suggests\n",
      "Extracted 1004 total links from page.\n",
      "Extracted 4 relevant images.\n",
      "Extracted text content (length: 18754 chars).\n",
      "Successfully extracted content from: https://apnews.com/general-news-86073aedf0c245eaa8fbbecd8ffff791\n",
      "Extracted 0 total links from page.\n",
      "Extracted 0 relevant images.\n",
      "Extracted text content (length: 0 chars).\n",
      "Successfully extracted content from: https://hwb.gov.wales/api/storage/2918b780-285a-4c34-b933-5bbb7b294914/Fake%20News%20Lesson%20English.pdf\n",
      "Extracted 23 total links from page.\n",
      "Extracted 0 relevant images.\n",
      "Extracted text content (length: 11849 chars).\n",
      "Successfully extracted content from: https://www.cnbc.com/2016/12/30/read-all-about-it-the-biggest-fake-news-stories-of-2016.html\n",
      "Extracted 109 total links from page.\n",
      "Extracted 1 relevant images.\n",
      "Extracted text content (length: 9338 chars).\n",
      "Successfully extracted content from: https://www.nbcnews.com/politics/politics-news/fake-news-went-viral-2016-expert-studied-who-clicked-n836581\n",
      "Extracted 24 total links from page.\n",
      "Extracted 1 relevant images.\n",
      "Extracted text content (length: 5158 chars).\n",
      "Successfully extracted content from: https://www.sltrib.com/religion/global/2018/01/24/pope-francis-to-deliver-message-decrying-fake-news/\n",
      "Extracted 62 total links from page.\n",
      "Extracted 0 relevant images.\n",
      "Extracted text content (length: 7310 chars).\n",
      "Successfully extracted content from: https://www.chicagobooth.edu/review/did-fake-news-swing-election-trump\n"
     ]
    }
   ],
   "source": [
    "from fact_checker_agent.tool.url_executor import extract_external_links_info\n",
    "extract_res = await extract_external_links_info(res[0])"
   ]
  },
  {
   "cell_type": "code",
   "execution_count": 6,
   "id": "9987b8f8",
   "metadata": {},
   "outputs": [
    {
     "data": {
      "text/plain": [
       "[BasePayload(url='https://www.cnbc.com/2016/12/30/read-all-about-it-the-biggest-fake-news-stories-of-2016.html', title='Read all about it: The biggest fake news stories of 2016', summary='Read all about it: The biggest fake news stories of 2016 Skip Navigation Markets Pre-Markets U.S. Markets Europe Markets China Markets Asia Markets World Markets Currencies Cryptocurrency Futures & Commodities Bonds Funds & ETFs Business Economy Finance Health & Science Media Real Estate Energy Climate Transportation Industrials Retail Wealth Sports Life Small Business Investing Personal Finance Fintech Financial Advisors Options Action ETF Street Buffett Archive Earnings Trader Talk Tech Cybersecurity AI Enterprise Internet Media Mobile Social Media CNBC Disruptor 50 Tech Guide Politics White House Policy Defense Congress Expanding Opportunity Europe Politics China Politics Asia Politics World Politics Video Latest Video Full Episodes Livestream Top Video Live Audio Europe TV Asia TV CNBC Podcasts CEO Interviews Digital Originals Watchlist Investing Club Trust Portfolio Analysis Trade Alerts Meeting Videos Homestretch Jim\\'s Columns Education Subscribe Sign In PRO Pro News Livestream Full Episodes Stock Screener Market Forecast Options Investing Chart Investing Stock Lists Subscribe Sign In Livestream Menu Make It select USA INTL Livestream Search quotes, news & videos Livestream Watchlist SIGN IN Markets Business Investing Tech Politics Video Watchlist Investing Club PRO Livestream Menu Media Read all about it: The biggest fake news stories of 2016 Published Fri, Dec 30 2016 2:04 AM EST Hannah Ritchie, Special to CNBC.com WATCH LIVE Source: Facebook This year has been a roller-coaster one for news, full of political upsets and shock outcomes. But while the Brexit vote and the U.S. election were making headlines, so too were apparently genuine stories that Pope Francis had endorsed Donald Trump and Hillary Clinton sold weapons to ISIS. After being fact-checked, it quickly became apparent that these stories were almost entirely fabricated. And while a slightly closer inspection would have shown that Popes are traditionally politically independent and no evidence has been found that Hillary Clinton has financial links to the so-called Islamic State, many people took the stories at face value. According to data from Buzzfeed published last month, these stories boasted nearly two million Facebook engagements, in the three months leading up to the U.S. election. To put that figure into perspective, during the same period, the top performing Facebook story for the New York Times racked up just over 370,000 engagements. A Buzzfeed investigation traced some of these fake publishers to a small town in Macedonia called Veles - where it discovered that over 140 fake news sites are based. CNBC looks at some of the biggest top performing fake stories of 2016, using engagement figures from Buzzfeed. \"Pope Francis shocks world, endorses Donald Trump for president\" Pope Francis Giampiero Sposito | Reuters The story was originally published by a site called WTOE 5 News before being copied by a popular fake news publisher Ending the Fed. By November 8, the story had picked up 960,000 Facebook engagements, according to Buzzfeed. WTO5 News has since shut down its website. However, when it was operational, it openly admitted to fabricating content and even had a disclaimer on its homepage saying: \"most articles on wt0e5news.com are satire or pure fantasy.\" Ending the Fed has taken down its version of the article, but is still publishing fake news and growing its audience on Facebook; it currently has over 350,000 followers. During a press conference on October 2, Pope Francis spoke publicly about the U.S. election for the first time, saying \"I never say a word about electoral campaigns\" and that there were \"difficulties\" with both candidates; Reuters reported. Francis also spoke out against the dangers of fake news on December 7 in an interview with the Belgian Catholic Weekly, calling it a \"sickness.\" \"Donald Trump sent his own plane to transport 200 stranded marines\" Donald Trump Shannon Stapleton | Reuters This was published by Americanmilitarynews.com in May and racked up 893,000 engagements, according to Buzzfeed\\'s data. The article claimed that back in 1991, a bunch of Marines had been left stranded after Operation Desert Storm, and that Donald Trump had found out about it and sent his own plane to collect them. The story can be traced back to Sean Hannity, a popular conservative political commentator. His site, Hannity.com, still has the article up and says it has been confirmed by Trump\\'s team. The Washington Post fact-checked Hannity\\'s article and the real story is slightly different. A Trump-branded plane did indeed pick up the Marines, but it wasn\\'t Donald Trump\\'s personal jet. It was a Boeing 727 that was part of Trump Shuttle Inc, an airline owned by the president-elect from 1989-1992. TSI never turned a profit and by 1990 it had defaulted on its loans. The planes were eventually seized but, before the business was sold, TSI contracted out planes to the U.S. Army. #Pizzagate John Podesta Andrew Harrer | Bloomberg | Getty Images The \"Pizzagate\" conspiracy theory emerged after WikiLeaks released emails from Hillary Clinton\\'s campaign chairman, John Podesta. Reading the emails, online communities such as 4chan and Reddit began theorizing about possible double meanings which could be inferred from the exchanges. It was quickly decided that emails about social gatherings involving \"pizza,\" were code for something much darker; a secret underground human trafficking/child sex abuse ring, involving senior members of the Clinton campaign. There has been no evidence to support claims that Comet, the Washington pizzeria mentioned in the emails is up to any wrongdoing. In fact, after investigating the claims, the Metropolitan Police Department of the District of Columbia characterised the matter as a \"fictitious conspiracy theory\". The New York Times, Fox News and the Washington Post have also failed to find any unlawful activity at the restaurant. \"Ireland is now officially accepting Trump refugees from America\" columbiahillen | iStock | Getty Images Nearly a million people read this story on Facebook. Actually the piece did not even mention Ireland, it references Inishturk - a small island off the coast of Ireland which has no say on Irish immigration policy. Furthermore the article, which was published by Winning Democrats, referenced how Canada has adopted an open door immigration policy for disgruntled Americans - which it hasn\\'t. Nonetheless, the story generated 810,000 engagements. \"WikiLeaks confirms Hillary sold weapons to ISIS … Then drops another bombshell\" Reuters Published on August 4, this article was written by The Political Insider after WikiLeaks founder Julian Assange made comments about Hillary Clinton during an interview in late July. The article states that Assange contended \"Hillary Clinton and her State department were actively arming Islamic jihadists, which includes ISIS…\" and generated some 789,000 engagements, according to Buzzfeed data. What Assange actually said, was that a Hillary Clinton-led State Department had approved weapon shipments to Libya during the intervention in 2011, and that those weapons had later ended up in the hands of jihadists. Before Election Day, the article had 789,000 engagements according to Buzzfeed. \"FBI agent suspected in Hillary email leaks found dead in apartment murder-suicide\" The article, which generated some 567,000 Facebook engagements, according to Buzzfeed, was originally published by the Denver Guardian on November 5. The site has since been deleted, but it once called itself \"Denver\\'s oldest news source\". In reality, that title belongs to the Denver Post, which has been publishing since 1892.The Denver Guardian article prompted the Post to publish a piece titled \"There is no such thing as the Denver Guardian, despite that Facebook post you saw.\" In its article, the Denver Post draws attention to the fact that the contact address listed for the Denver Guardian is actually just a vacant car park. \"FBI director received millions from Clinton Foundation, his brother’s law firm does Clinton’s taxes\" FBI director James Comey Getty Images This was another big clicker for the website Ending the Fed with over 538,000 Facebook engagements, but a lot of the content seems to have been sourced from the right-wing news and commentary site Breitbart News. All that can really be proven is that FBI Director James Comey has worked for organizations in the past that have donated money or partnered with the Clinton Foundation. Brietbart has so far been unable to produce proof Comey directly took part in, or benefitted from any of the transactions. As for the taxes claim: Peter Comey is employed in some capacity by DLA Piper - a multinational law firm. According to Breitbart, DLA Piper conducted an independent audit of the Clinton Foundation in 2015, although there is no evidence to support this claim. The only clear link between DLA Piper and the Clinton Foundation is one of the firm\\'s partners, Kathy Keneally. Before joining DLA Piper\\'s New York office in 2014, Keneally worked as the Assistant Attorney General for the Justice Department\\'s Tax Division. During her time at the DOJ Keneally carried out a four-year-long review of the Clinton Foundation\\'s tax returns between 2010 and 2013. \"ISIS leader calls for American Muslim voters to support Hillary Clinton\" A fighter of the Islamic State of Iraq and Syria, or ISIS, holds a flag and a weapon. Reuters WNDR is a self-confessed fake news outlet and the site\\'s disclaimer points out that its content is fictional in nature and meant to be read as satire. Nonetheless, this article went viral among Trump supporters online and racked up over half a million engagements before November. WNDR alleged that a top ISIS leader released a video endorsing Hillary Clinton and threatening potential Donald Trump voters, calling them \"infidels\". This is another story copied and reposted by hundreds of fake news sites, often shared with the hashtag #ISISwithher, and clocked up some 522,000 Facebook engagements according to Buzzfeed. \"Hillary Clinton in 2013: ‘I would like to see people like Donald Trump run for office; they’re honest and can’t be bought’\" Hillary Clinton, 2016 Democratic presidential nominee, smiles during a campaign event in Detroit, Michigan. Daniel Acker | Bloomberg | Getty Images Within its first week, this article had already captured the attention of 481,000 readers, according to Buzzfeed. It has been published by a plethora of fake news sites, but it got the most attention on ConservativeState.com, one of the best performing Macedonian fake news outlets. While the quote was made up, it is loosely based on a comment Hillary Clinton made in a private speech to Goldman Sachs, an excerpt of which was published by WikiLeaks. What Clinton actually said was that she would like to see more successful business people enter politics. \"RuPaul claims Trump touched him inappropriately in the 90s\" Cosmetics company founder François Nars, German model and actress Veruschka von Lehndorff, American actor, model, and recording artist RuPaul, American fashion photographer Steven Meisel, and Canadian model Linda Evangelista, circa 1996. Rose Hartman | Archive Photos | Getty Images After tapes surfaced of Donald Trump and broadcaster Billy Bush making obscene comments about women, so did this satirical story about the President-elect fondling one of America\\'s most famous drag queens. Published by the satirical site World News Daily Report on October 15, the article said that RuPaul had been grabbed by the president-elect during a party in 1995. Buzzfeed data shows that before Election Day, this article had over 285,000 Facebook engagements. Disclosure: CNBC parent NBCUniversal is a minority investor in BuzzFeed. Follow CNBC International on Twitter and Facebook .', short_description=None, result_rank=None, rank_reason=None, is_youtube=False),\n",
       " BasePayload(url='https://www.bbc.com/news/world-europe-38244274', title=\"Pope Francis condemns 'media disinformation' - BBC News\", summary='Pope Francis condemns \\'media disinformation\\' - BBC News BBC News Pope Francis condemns \\'media disinformation\\' Published 7 December 2016 Share close panel Share page Copy link About sharing Image source, AFP Image caption, The Pope\\'s comments are his strongest yet about the media Pope Francis has condemned disinformation as \"probably the greatest damage that the media can do\". His comments come amid warnings of a \"fake news\" crisis in online media following last month\\'s US elections. Social media platforms and search engines were widely criticised in the poll\\'s aftermath for failing to prevent the spread of fabricated stories. The Pope himself fell victim to a fake news story, which falsely reported his endorsement of Donald Trump. In a frank interview with Belgian Catholic weekly Tertio, the pontiff said , external the media\\'s obsession with scandal was akin to \"coprophilia\", an abnormal interest in excrement. This preyed on people\\'s \"tendency towards the sickness of coprophagia\", the eating of excrement, he added, extending the analogy to apply it to the public\\'s consumption of such coverage. People could not be expected to make \"a serious judgment\" about any situation if the media provided \"only a part of the truth, and not the rest\", he said. The issue of balance has been at the heart of the debate about changes in the way people access information in today\\'s world. Beyond the rapid and far-reaching spread of fake news, analysts have also criticised social media platforms like Facebook for enabling an \"echo chamber\" to be created, in which people are far less likely to be exposed to both sides of an argument. The city getting rich from fake news The rise and rise of fake news To play this video you need to enable JavaScript in your browser. This video can not be played Media caption, How can you tell if news is fake? More on this story Profile: Pope Francis Published 28 October 2022 The city getting rich from fake news Published 5 December 2016 \\'Why I write fake news stories\\' Published 15 November 2016 The rise and rise of fake news Published 6 November 2016 \\'Pizzagate\\': The fake story that shows how conspiracy theories spread Published 2 December 2016 How can you tell if news is fake? Video, 00:01:08 How can you tell if news is fake? Published 16 November 2016 1:08', short_description=None, result_rank=None, rank_reason=None, is_youtube=False),\n",
       " BasePayload(url='https://www.factcheck.org/2016/10/did-the-pope-endorse-trump/', title='Did the Pope Endorse Trump? - FactCheck.org', summary='Did the Pope Endorse Trump? - FactCheck.org Facebook Twitter Tumblr Close Skip to main content FactCheck .org ® A Project of The Annenberg Public Policy Center Ask FactCheck Did the Pope Endorse Trump? By Sydney Schaedel Posted on October 24, 2016 3.6K Q: Did Pope Francis endorse Donald Trump? Is Tom Hanks supporting him? A: No, the pope has not endorsed him, and Tom Hanks does not support him. FULL QUESTION Did Pope Francis endorse Donald Trump? Has Tom Hanks come out in support of Donald Trump? FULL ANSWER We’ve received many questions asking whether Pope Francis has endorsed Donald Trump, and a few asking if the actor Tom Hanks has voiced his support for Trump. Neither has. Let’s start with the pope. Pope Francis’ supposed endorsement of Trump originated on the satirical website WTOE 5 News, with the headline “Pope Francis Shocks World, Endorses Donald Trump for President, Releases Statement.” In the bogus statement, the pope is purported to comment on the FBI investigation of Democratic presidential nominee Hillary Clinton, writing, “The FBI, in refusing to recommend prosecution after admitting that the law had been broken on multiple occasions by Secretary Clinton, has exposed itself as corrupted by political forces that have become far too powerful.” In the made-up article, the pope then goes on to acknowledge that he is not endorsing Trump as the pope, but rather “as a concerned citizen of the world.” WTOE 5 News owns up to being a fake news website in its “about” page. “WTOE 5 News is a fantasy news website,” it says. “Most articles on wtoe5news.com are satire or pure fantasy.” The pope has even criticized Trump before, making headlines back in February when he took a swipe at Trump’s call to build a wall along the Mexican border. “A person who thinks only about building walls, wherever they may be, and not building bridges, is not Christian,” Pope Francis told a reporter who had asked him about the Republican presidential candidate on the papal airliner as he returned home after a visit to Mexico. Vatican spokesman Father Federico Lombardi later tried to avoid the impression that the pope was getting political, telling Vatican Radio , “It is not that the pope wishes to be, in any way, a personal attack nor an indication of voting,” according to a translation from the Vatican press office. In a press conference on Sunday, Oct. 2, the pope once again maintained that he does not endorse political candidates. “I never say a word about electoral campaigns,” the pope responded when asked how Catholics should vote if they dislike Clinton and Trump. “The people are sovereign. I will only say: Study the proposals well, pray, and choose in conscience.” Tom Hanks’ supposed support of Trump, on the other hand, comes from an actual interview, but one that has been selectively edited to give a misleading impression. The website Conservative 101 reported , “Tom Hanks Backs Donald Trump, Destroys Hollywood Libs Who Criticize Him With THESE 9 Heroic Words.” The article includes a quote by Hanks from an interview on “CBS This Morning”: “America’s going to be fine. We’re the greatest, most resilient nation in the history of, of civilized, in all of civilization. We’ve worked ourselves out of holes many, many times over and over again.” But Hanks was saying that America would be fine even if Trump becomes president, not because of Trump. One of the reporters had asked him — “So you’re not ready for President Trump?” — after Hanks had mocked Trump, referring to him as the “president of the Junior Chamber of Commerce.” Hanks responded by attempting to put his criticism in perspective. In reality, Hanks has raised money for Hillary Clinton and has donated to her campaign. Hanks also has condemned lewd comments that Trump made in the 2005 video while on the set of “Days of Our Lives” with “Access Hollywood” host Billy Bush. Time reported on Oct. 12 that Hanks said in an interview that he was offended by Trump’s remarks “as a man. I’m not offended as a husband or a father. I’m offended as a guy.” In the same interview, Hanks used a metaphor to make it clear that he believes Clinton is more qualified to be president. “It’s kind of like if you have a horrible, painful tooth, and you need a root canal. Who are you going to see? A guy who says, ‘Oh, I think I can figure out how to do a root canal for you. Lay down,’” he said. “Or are you going to see somebody who’s done 6,000 of them, has a degree on the wall and has a great history and expertise when it comes down to it.” This doesn’t mean Trump is entirely without celebrity endorsements , however. Singer Kid Rock , former professional boxer Mike Tyson , and “Duck Dynasty” star Willie Robertson have all voiced their support for the candidate. Singer Azealia Banks did support Trump, but she later withdrew her endorsement after the video surfaced of him boasting in 2005 of making unwanted sexual advances on women. Sources “ Pope Francis Shocks World, Endorses Donald Trump for President, Releases Statement .” WTOE 5 News. Undated, accessed 21 Oct 2016. Yardley, Jim. “ Pope Francis Suggests Donald Trump Is ‘Not Christian’ .” New York Times. 18 Feb 2016. Bever, Lindsey and Jenna Johnson. “ Vatican says pope’s remarks on Trump were not a ‘personal attack’ .” Washington Post. 19 Feb 2016. McElwee, Joshua J. “ Francis tells US Catholics to vote their conscience in November election .” National Catholic Reporter. 2 Oct 2016. Justin. “ Tom Hanks Backs Donald Trump, Destroys Hollywood Libs Who Criticize Him With THESE 9 Heroic Words .” Conservative 101. 29 Jul 2016. “ Tom Hanks on “A Hologram for the King,” “hilarious” 2016 race .” CBS’ “This Morning.” 21 Apr 2016. Daunt, Tina. “ Kim Kardashian, Kanye, Tom Hanks Among Celebs Raising Money for Hillary Clinton at Scooter Braun Event .” The Hollywood Reporter. 6 Aug 2015. Fahrenthod, David A. “ Trump recorded having extremely lewd conversations about women in 2005 .” Washington Post. 8 Oct 2016. McCluskey, Megan. “ Tom Hanks Unloads on Donald Trump’s ‘Locker Room’ Comments: ‘I’m Offended as a Man’ .” 12 Oct 2016. “ Azealia Banks Endorses Donald Trump for President .” The Hollywood Reporter. 7 May 2016. McKinney, Jessica. “ Azealia Banks Withdraws Trump Endorsement: ‘I Made A Major Mistake.’ ” 11 Oct 2016. Hiatt, Brian. “ Kid Rock: ‘I’m Digging Donald Trump’ .” The Rolling Stone. 1 Feb 2016. Gebreyes, Rahel. “ Mike Tyson Just Endorsed Donald Trump. ” Huffington Post. 27 Oct 2015. Mallenbaum, Carly. “ Duck Dynasty star speaks at convention: Why I’m on Trump train .” USA Today 18 Jul 2016.', short_description=None, result_rank=None, rank_reason=None, is_youtube=False),\n",
       " BasePayload(url='https://www.nbcnews.com/politics/politics-news/fake-news-went-viral-2016-expert-studied-who-clicked-n836581', title=\"'Fake news' went viral in 2016. This expert studied who clicked.\", summary='\\'Fake news\\' went viral in 2016. This expert studied who clicked. IE 11 is not supported. For an optimal experience visit our site on another browser. Skip to Content \\'Fake news\\' went viral in 2016. This expert studied who clicked. Fake news sites became a viral phenomenon in 2016, but did they sway the election? NBC News talked to a professor who co-authored a major study on their impact. The Twitter Inc. logo is shown with the U.S. flag during the company\\'s IPO on the floor of the New York Stock Exchange in New York, Nov. 7, 2013. Lucas Jackson / Reuters file Jan. 14, 2018, 7:06 AM EST / Updated Jan. 14, 2018, 7:06 AM EST By Benjy Sarlin It’s one of the defining phrases to emerge the 2016 election. But before “fake news” became President Donald Trump’s favorite media-bashing epithet, the term referred to fake political news spread by dubious partisan sites for profit. In the months leading up to the presidential election, news sites and Facebook pages attracted attention for producing wholly fictitious articles like “Pope Francis Shocks World, Endorses Donald Trump For President” that preyed on readers’ biases. In Macedonia, enterprising teenagers built a cottage industry of fake news sites that concocted phony scoops about President Obama and Hillary Clinton and then collected the ad revenue when they went viral among Trump supporters. This month, three political scientists released a major study on the spread of fake news in 2016. Using a combination of surveys and software that tracked which sites participants visited on their computer, they mapped the spread of viral sites between October 7 and November 14, 2016. Based on their findings, over 27 percent of adults visited an article on a pro-Trump or pro-Clinton site that had been identified as a fake news hub. These visits made up 2.6 percent of all articles they consumed. To unpack the findings, NBC News talked to Brendan Nyhan, a Dartmouth professor who co-authored the study with Princeton professor Andrew Guess and University of Exeter professor Jason Reifler. Below is a transcript of our conversation, edited for length and clarity. NBC News: Tell me a little about why you thought this phenomenon was so important to research. NYHAN: Like everyone else, we were surprised after the 2016 election by the apparent reach of fake news websites. Craig Silverman’s reporting suggested they had been shared millions of times on Facebook. People were speculating that the prominence of fake news meant that misinformation had become more prominent in our politics and that it might have changed the outcome of the election. We had a study in the field before the election focusing on fact checking, but that study measured participants’ candidate preference and allowed us to observe anonymized browsing behavior. We realized we could leverage that data to provide the first direct measurement of fake news exposure. The speculation has run far ahead of the available data and we wanted to hopefully inform that conversation. Our data suggests a different story about the problem fake news exposure reveals. Fake news is not a problem of potential swing voters being misled. It reflects the potential for people on the extremes to be trapped in echo chambers that aren’t just reinforcing their opinions, but providing them with false and misleading factual claims that seem to reinforce those opinions. You found that fake news visit were highly concentrated among a certain set of older conservatives. Tell me a little about this group. The group that visited fake news websites the most frequently was the 10% of Americans with the most conservative information diets. These are people who are visiting a lot of websites that are disproportionately consumed and shared by conservatives relative to liberals. It’s not that fake news is a substitute for political news, it’s being added on to a diet of like-minded political news of a more conventional variety. For instance, if you look at how often people in that group visit Fox News, it’s much more on average than they visit fake news websites. And I’m not equating Fox News to fake news websites of the sort we observed, I’m just illustrating that these are people consuming a lot of political news in general. We find no evidence that fake news crowds out political news. So they’re more ‘news junkies’ rather than low-information voters trying to make up their mind the week before an election? Right. They’re a subset of Americans who follow politics extremely closely. For all the saturation coverage that politics receives, its still a pretty small part of the news diet for most people. It’s important to be clear that people probably were having chance encounters with fake news here and there, but we all have chance encounters with all sorts of information on Facebook. We forget or don’t even process a huge fraction of it. I know of no evidence to suggest those encounters are changing people’s votes. After conducting this research, I’m much more concerned about how fake news entrepreneurs could increase affective polarization among people in the extremes. That means increasing negative sentiments towards the other political party, which has been one of the most unfortunate trends in recent years. The New York Times described your study as finding fake news had \"little impact.\" I’ll admit I had the opposite reaction. For one thing, the group you’re describing -- hyper-political older conservatives -- sounds like the most important force in the Republican primaries. This is a tricky question. Fake news really takes off during the general election as more Americans start to tune in. Fake news was a relatively small part of the information people consumed, which might suggest it didn’t change the outcome of the election. And to be clear, I know of no evidence to say it changed the outcome of the election. This is not to say the audience it reaches isn’t politically influential -- it is. They consume a lot of political news, so they help drive the political media. They vote in primaries, they write letters to their members of Congress, they show up in meetings, and they turn out to vote. It’s just important to recognize they’re a relatively small part of the public and their vote choice is unlikely to be changed by information reinforcing what they already believe. It feels like there’s a connection between having an active portion of a party that’s prone to seeking false stories and conspiracies and a president who has famously spread conspiracies and false claims. In many ways, demographically and ideologically, the president fits the profile of the fake news users that you’re describing. It’s worrisome if fake news websites further weaken the norm against false and misleading information in our politics, which unfortunately has eroded. But it’s also important to put the content provided by fake news websites in perspective. People got vastly more misinformation from Donald Trump than they did from fake news websites -- full stop. That’s not to say Hillary Clinton was innocent or her statements were always accurate, that’s not true either. But there’s been a disproportionate focus on fake news in thinking about where people got information about politics and the campaign. One other reason I think fake news is worrisome is that it was a new threat to our public debate that signaled a weakness in the marketplace of ideas. Our social media platforms were enabling the spread of false and misleading information in a way that we hadn’t seen before. They created a market that was sufficiently attractive that people all around the world formed businesses to profit from our polarized politics. That very worrisome and that’s a trend we have to address or more entrepreneurs will enter that market in 2018 and 2020. Your research seemed to find that fake news sites were largely a Facebook-driven phenomenon. Yes. Facebook stands out in our data as the site people visited most disproportionately prior to visiting a fake news website. We don’t observe the same pattern with Google, Twitter, or web mail platforms. Journalists love to talk about Twitter, but it just doesn’t compare in reach to Facebook. Facebook has said they are trying to prevent fake news with new measures, like adding related fact checks to disputed stories. In general, do you think they\\'re taking an effective approach? I think Facebook is moving in a positive direction. Their partnership with fact checkers was an important step to provide fact checking information at the time people need it and it avoids Facebook being in the business of determining what information is shown to people directly. Our data shows people almost never see fact checks of the dubious claims they’re encountering online. It may be the case that lots of people read fact checks and lots of people read fake news, but almost no one reads fact checks of the fake news they’ve been exposed to. Facebook can address that problem. They’re also making changes on the publisher side which could hopefully disincentive fake news-based businesses which sprung up to exploit the profit opportunities that were previously there. Changing the business model is a more feasible goal than overcoming polarization or changing human psychology. Benjy Sarlin Benjy Sarlin is policy editor for NBC News.', short_description=None, result_rank=None, rank_reason=None, is_youtube=False),\n",
       " BasePayload(url='https://hwb.gov.wales/api/storage/2918b780-285a-4c34-b933-5bbb7b294914/Fake%20News%20Lesson%20English.pdf', title='', summary='', short_description=None, result_rank=None, rank_reason=None, is_youtube=False),\n",
       " BasePayload(url='https://www.science.org/content/article/majority-americans-were-not-exposed-fake-news-2016-us-election-twitter-study-suggests', title='Just a moment...', summary='Just a moment... www.science.org Verifying you are human. This may take a few seconds. www.science.org needs to review the security of your connection before proceeding. Verification successful Waiting for www.science.org to respond... Enable JavaScript and cookies to continue Ray ID: 9532a92ce9116efb Performance & security by Cloudflare', short_description=None, result_rank=None, rank_reason=None, is_youtube=False),\n",
       " BasePayload(url='https://www.researchgate.net/figure/Using-the-example-of-the-Pope-Francis-Shocks-World-Endorses-Donald-Trump-for-President_fig3_339031969', title='ResearchGate - Temporarily Unavailable', summary='ResearchGate - Temporarily Unavailable Access denied You do not have access to www.researchgate.net. The site owner may have set restrictions that prevent you from accessing the site. Ray ID: 9532a928eae83a99 Timestamp: 2025-06-21 10:00:46 UTC Your IP address: 2405:201:17:8011:38e6:d174:8ef6:f41a Requested URL: www.researchgate.net/figure/Using-the-example-of-the-Pope-Francis-Shocks-World-Endorses-Donald-Trump-for-President_fig3_339031969 Error reference number: 1020 Server ID: FL_670F69 User-Agent: Mozilla/5.0 (Macintosh; Intel Mac OS X 10_15_7) AppleWebKit/537.36 (KHTML, like Gecko) HeadlessChrome/137.0.0.0 Safari/537.36 Ray ID : 9532a928eae83a99 Client IP : 2405:201:17:8011:38e6:d174:8ef6:f41a © 2008-2025 ResearchGate GmbH. All rights reserved.', short_description=None, result_rank=None, rank_reason=None, is_youtube=False),\n",
       " BasePayload(url='https://apnews.com/general-news-86073aedf0c245eaa8fbbecd8ffff791', title='Pope warns about fake news - from experience | AP News', summary=\"Pope warns about fake news - from experience | AP News Menu World SECTIONS Israel-Hamas war Russia-Ukraine War Español China Asia Pacific Latin America Europe Africa TOP STORIES Israel-Iran war stretches into a second week without diplomatic breakthrough A deadly race for food: Palestinians in Gaza risk harrowing journey day after day As the UN turns 80, its crucial humanitarian aid work faces a clouded future Newsletters The Morning Wire Our flagship newsletter breaks down the biggest headlines of the day. The Afternoon Wire Get caught up on what you may have missed throughout the day. See All Newsletters U.S. SECTIONS Immigration Weather Education Transportation Abortion LGBTQ+ Notable Deaths TOP STORIES Columbia protester Mahmoud Khalil freed from immigration detention Judge asks if troops in Los Angeles are violating the Posse Comitatus Act Many Americans are witnessing immigration arrests for the first time and reacting Newsletters The Morning Wire Our flagship newsletter breaks down the biggest headlines of the day. See All Newsletters AP QUIZZES Test Your News I.Q. — take today’s quiz Politics SECTIONS White House Congress U.S. Supreme Court 2025 Election Calendar TOP STORIES How Senate Republicans want to change the tax breaks in Trump's big bill Trump says Gabbard was 'wrong' about Iran and Israeli strikes could be 'very hard to stop' Federal judge blocks Trump effort to keep Harvard from hosting foreign students Newsletters Ground Game Exclusive insights and key stories from the world of politics. See All Newsletters Sports SECTIONS NBA MLB NHL Tennis WNBA NFL Auto Racing Soccer TOP STORIES For Pacers and Thunder, there's no looking back now. All eyes are only on Game 7 in the NBA Finals Brewers' Jacob Misiorowski loses perfect game, no-hit bid in 7th vs. Twins in 2nd career start Padres closer Suarez suspended 3 games, fined for hitting Ohtani with pitch; managers banned 1 game Newsletters AP Top 25 Poll Alerts Get email alerts for every college football Top 25 Poll release. The Sports Wire Your home base for in-depth reporting from the world of sports. See All Newsletters Entertainment SECTIONS Movie Reviews What to Stream Television Book Reviews Music Celebrity Interviews TOP STORIES Bassist Carol Kaye tells AP she's declining Rock & Roll Hall of Fame induction — permanently Marlee Matlin tells her story in an intimate and groundbreaking documentary All 7 BTS members are now done with mandatory service Newsletters AP Entertainment Wire Get AP's first personalized newsletter delivering you entertainment news twice a week. See All Newsletters Business SECTIONS Tariffs Inflation Financial Markets Financial Wellness Technology TOP STORIES Iran's internet blackout leaves public in dark and creates an uneven picture of the war with Israel Music streaming service Deezer adds AI song tags in fight against fraud ICE raids and their uncertainty scare off workers and baffle businesses Science SECTIONS Space Animals The Ancient World Climate Medicine TOP STORIES NASA spacecraft around the moon photographs the crash site of a Japanese company's lunar lander Early humans survived in a range of extreme environments before global migration, study says Meet the bug that uses the stars to navigate hundreds of miles Fact Check TOP STORIES A hillside of white crosses fuels a misleading story about South Africa's farm killings FACT FOCUS: A Craigslist ad is not proof of paid protesters in LA. It was posted as a prank Unsubstantiated 'chemtrail' conspiracy theories lead to legislation proposed in US statehouses Oddities TOP STORIES Photos of top surfing dogs catching waves at Huntington Beach 15 sets of twins are graduating from one New York high school Fan climbs netting at Wrigley Field to retrieve Sal Frelick's bat Stanley Cup damaged as the Florida Panthers celebrate a second straight championship A Michigan bear roamed the woods for two years with an awful lid on his neck. Not anymore. An 80-year-old drives a luxury Mercedes sedan down Rome's Spanish Steps and gets stuck Be Well TOP STORIES In stressful times, our anxiety can rub off on pets. Causes and cures for pet anxiety How expressing gratitude can transform your work and life Should you let pets sleep next to you? (Does it even matter what the experts say?) Workers are saying 'no' to toxic environments. Here's how you can set limits or know it's time to leave Do you really need that extra ChapStick? Here are tips to reduce and tame workplace clutter Working Well: Returning to the office can disrupt life. Here are some tips to navigate the changes Newsletters Newsletters AP News Alerts Keep your pulse on the news with breaking news alerts from The AP. The Morning Wire Our flagship newsletter breaks down the biggest headlines of the day. Ground Game Exclusive insights and key stories from the world of politics. Beyond the Story Executive Editor Julie Pace brings you behind the scenes of the AP newsroom. The Afternoon Wire Get caught up on what you may have missed throughout the day. AP Entertainment Wire Get AP's first personalized newsletter delivering you entertainment news twice a week. See All Newsletters Photography SECTIONS 2024 YEAR END PHOTOS Photo Essays Photography TOP STORIES AP PHOTOS: Highlights of International Day of Yoga Photo highlights from the first week of the Club World Cup Photos of top surfing dogs catching waves at Huntington Beach Newsletters The World in Pictures Get The AP’s most compelling photographs sent directly to your inbox. See All Newsletters AP Investigations Climate SECTIONS Indigenous peoples and climate Climate Questions Climate Migration India Focus TOP STORIES How to stay cool in a heat wave — even without air conditioning California is to examine its Amazon oil ties following pleas from Indigenous leaders from Ecuador Want to plant trees to offset fossil fuels? You'd need all of North and Central America, study finds Health TOP STORIES 988 hotline removing LGBTQ+ youth support next month New CDC advisers will skip some expected topics and explore a target of antivaccine activists The world's only twice-a-year shot to prevent HIV could stop transmission — if people can get it More at-home health tests are now available. How to know what's right for you Dogs and cats can also suffer from allergies, but there are ways to help our furry friends You should wear sunscreen even if you have darker skin. Here's why Tech SECTIONS Artificial Intelligence Social Media TOP STORIES Iran's internet blackout leaves public in dark and creates an uneven picture of the war with Israel Aflac finds suspicious activity on US network that may impact Social Security numbers, other data Billions of login credentials from Google, Facebook and other sites have been leaked, report says Lifestyle SECTIONS Food & Recipes Gardening Homes Travel Fashion Pets TOP STORIES AP PHOTOS: Highlights of International Day of Yoga AP WAS THERE: 'Jaws' and the parental debates it set off Giorgio Armani, 90, will not attend runway shows during Milan Fashion Week Religion TOP STORIES San Diego clergy visit federal immigration court to bear witness during crackdown on migrants Court blocks Louisiana law requiring schools to post Ten Commandments in classrooms Columbia protester Mahmoud Khalil freed from immigration detention Newsletters World of Faith Comprehensive global coverage of how religion shapes our world. See All Newsletters Español TOP STORIES Guerra entre Israel e Irán entra en su segunda semana sin avances diplomáticos En su 80 aniversario, ONU enfrenta un futuro incierto en su crucial labor humanitaria Muchos estadounidenses presencian arrestos de inmigración por primera vez y se indignan Jueza federal bloquea intento de Trump para evitar que Harvard reciba estudiantes extranjeros Indios se estiran, respiran y buscan el equilibrio para celebrar el Día Internacional del Yoga Standards Quizzes Press Releases My Account MORE World Israel-Hamas war Russia-Ukraine War Español China Asia Pacific Latin America Europe Africa Australia Middle East Global Elections U.S. Immigration Weather Education Transportation Abortion LGBTQ+ Notable Deaths Politics White House Congress U.S. Supreme Court 2025 Election Calendar Sports NBA MLB NHL Tennis Tennis WNBA NFL Auto Racing Soccer Entertainment Movie Reviews What to Stream Television Book Reviews Music Celebrity Interviews Business Tariffs Inflation Financial Markets Financial Wellness Technology Science Space Animals The Ancient World Climate Medicine Fact Check Oddities Be Well Newsletters Photography 2024 YEAR END PHOTOS Photo Essays Photography AP Investigations Climate Indigenous peoples and climate Climate Questions Climate Migration India Focus Health Tech Artificial Intelligence Social Media Lifestyle Food & Recipes Gardening Homes Travel Fashion Pets Religion Español Standards Quizzes Press Releases My Account Sign in Show Search Menu Menu World SECTIONS Israel-Hamas war Russia-Ukraine War Español China Asia Pacific Latin America Europe Africa TOP STORIES Israel-Iran war stretches into a second week without diplomatic breakthrough A deadly race for food: Palestinians in Gaza risk harrowing journey day after day As the UN turns 80, its crucial humanitarian aid work faces a clouded future Newsletters The Morning Wire Our flagship newsletter breaks down the biggest headlines of the day. The Afternoon Wire Get caught up on what you may have missed throughout the day. See All Newsletters U.S. SECTIONS Immigration Weather Education Transportation Abortion LGBTQ+ Notable Deaths TOP STORIES Columbia protester Mahmoud Khalil freed from immigration detention Judge asks if troops in Los Angeles are violating the Posse Comitatus Act Many Americans are witnessing immigration arrests for the first time and reacting Newsletters The Morning Wire Our flagship newsletter breaks down the biggest headlines of the day. See All Newsletters AP QUIZZES Test Your News I.Q. — take today’s quiz Politics SECTIONS White House Congress U.S. Supreme Court 2025 Election Calendar TOP STORIES How Senate Republicans want to change the tax breaks in Trump's big bill Trump says Gabbard was 'wrong' about Iran and Israeli strikes could be 'very hard to stop' Federal judge blocks Trump effort to keep Harvard from hosting foreign students Newsletters Ground Game Exclusive insights and key stories from the world of politics. See All Newsletters Sports SECTIONS NBA MLB NHL Tennis WNBA NFL Auto Racing Soccer TOP STORIES For Pacers and Thunder, there's no looking back now. All eyes are only on Game 7 in the NBA Finals Brewers' Jacob Misiorowski loses perfect game, no-hit bid in 7th vs. Twins in 2nd career start Padres closer Suarez suspended 3 games, fined for hitting Ohtani with pitch; managers banned 1 game Newsletters AP Top 25 Poll Alerts Get email alerts for every college football Top 25 Poll release. The Sports Wire Your home base for in-depth reporting from the world of sports. See All Newsletters Entertainment SECTIONS Movie Reviews What to Stream Television Book Reviews Music Celebrity Interviews TOP STORIES Bassist Carol Kaye tells AP she's declining Rock & Roll Hall of Fame induction — permanently Marlee Matlin tells her story in an intimate and groundbreaking documentary All 7 BTS members are now done with mandatory service Newsletters AP Entertainment Wire Get AP's first personalized newsletter delivering you entertainment news twice a week. See All Newsletters Business SECTIONS Tariffs Inflation Financial Markets Financial Wellness Technology TOP STORIES Iran's internet blackout leaves public in dark and creates an uneven picture of the war with Israel Music streaming service Deezer adds AI song tags in fight against fraud ICE raids and their uncertainty scare off workers and baffle businesses Science SECTIONS Space Animals The Ancient World Climate Medicine TOP STORIES NASA spacecraft around the moon photographs the crash site of a Japanese company's lunar lander Early humans survived in a range of extreme environments before global migration, study says Meet the bug that uses the stars to navigate hundreds of miles Fact Check TOP STORIES A hillside of white crosses fuels a misleading story about South Africa's farm killings FACT FOCUS: A Craigslist ad is not proof of paid protesters in LA. It was posted as a prank Unsubstantiated 'chemtrail' conspiracy theories lead to legislation proposed in US statehouses Oddities TOP STORIES Photos of top surfing dogs catching waves at Huntington Beach 15 sets of twins are graduating from one New York high school Fan climbs netting at Wrigley Field to retrieve Sal Frelick's bat Stanley Cup damaged as the Florida Panthers celebrate a second straight championship A Michigan bear roamed the woods for two years with an awful lid on his neck. Not anymore. An 80-year-old drives a luxury Mercedes sedan down Rome's Spanish Steps and gets stuck Be Well TOP STORIES In stressful times, our anxiety can rub off on pets. Causes and cures for pet anxiety How expressing gratitude can transform your work and life Should you let pets sleep next to you? (Does it even matter what the experts say?) Workers are saying 'no' to toxic environments. Here's how you can set limits or know it's time to leave Do you really need that extra ChapStick? Here are tips to reduce and tame workplace clutter Working Well: Returning to the office can disrupt life. Here are some tips to navigate the changes Newsletters Newsletters AP News Alerts Keep your pulse on the news with breaking news alerts from The AP. The Morning Wire Our flagship newsletter breaks down the biggest headlines of the day. Ground Game Exclusive insights and key stories from the world of politics. Beyond the Story Executive Editor Julie Pace brings you behind the scenes of the AP newsroom. The Afternoon Wire Get caught up on what you may have missed throughout the day. AP Entertainment Wire Get AP's first personalized newsletter delivering you entertainment news twice a week. See All Newsletters Photography SECTIONS 2024 YEAR END PHOTOS Photo Essays Photography TOP STORIES AP PHOTOS: Highlights of International Day of Yoga Photo highlights from the first week of the Club World Cup Photos of top surfing dogs catching waves at Huntington Beach Newsletters The World in Pictures Get The AP’s most compelling photographs sent directly to your inbox. See All Newsletters AP Investigations Climate SECTIONS Indigenous peoples and climate Climate Questions Climate Migration India Focus TOP STORIES How to stay cool in a heat wave — even without air conditioning California is to examine its Amazon oil ties following pleas from Indigenous leaders from Ecuador Want to plant trees to offset fossil fuels? You'd need all of North and Central America, study finds Health TOP STORIES 988 hotline removing LGBTQ+ youth support next month New CDC advisers will skip some expected topics and explore a target of antivaccine activists The world's only twice-a-year shot to prevent HIV could stop transmission — if people can get it More at-home health tests are now available. How to know what's right for you Dogs and cats can also suffer from allergies, but there are ways to help our furry friends You should wear sunscreen even if you have darker skin. Here's why Tech SECTIONS Artificial Intelligence Social Media TOP STORIES Iran's internet blackout leaves public in dark and creates an uneven picture of the war with Israel Aflac finds suspicious activity on US network that may impact Social Security numbers, other data Billions of login credentials from Google, Facebook and other sites have been leaked, report says Lifestyle SECTIONS Food & Recipes Gardening Homes Travel Fashion Pets TOP STORIES AP PHOTOS: Highlights of International Day of Yoga AP WAS THERE: 'Jaws' and the parental debates it set off Giorgio Armani, 90, will not attend runway shows during Milan Fashion Week Religion TOP STORIES San Diego clergy visit federal immigration court to bear witness during crackdown on migrants Court blocks Louisiana law requiring schools to post Ten Commandments in classrooms Columbia protester Mahmoud Khalil freed from immigration detention Newsletters World of Faith Comprehensive global coverage of how religion shapes our world. See All Newsletters Español TOP STORIES Guerra entre Israel e Irán entra en su segunda semana sin avances diplomáticos En su 80 aniversario, ONU enfrenta un futuro incierto en su crucial labor humanitaria Muchos estadounidenses presencian arrestos de inmigración por primera vez y se indignan Jueza federal bloquea intento de Trump para evitar que Harvard reciba estudiantes extranjeros Indios se estiran, respiran y buscan el equilibrio para celebrar el Día Internacional del Yoga Standards Quizzes Press Releases My Account MORE World Israel-Hamas war Russia-Ukraine War Español China Asia Pacific Latin America Europe Africa Australia Middle East Global Elections U.S. Immigration Weather Education Transportation Abortion LGBTQ+ Notable Deaths Politics White House Congress U.S. Supreme Court 2025 Election Calendar Sports NBA MLB NHL Tennis Tennis WNBA NFL Auto Racing Soccer Entertainment Movie Reviews What to Stream Television Book Reviews Music Celebrity Interviews Business Tariffs Inflation Financial Markets Financial Wellness Technology Science Space Animals The Ancient World Climate Medicine Fact Check Oddities Be Well Newsletters Photography 2024 YEAR END PHOTOS Photo Essays Photography AP Investigations Climate Indigenous peoples and climate Climate Questions Climate Migration India Focus Health Tech Artificial Intelligence Social Media Lifestyle Food & Recipes Gardening Homes Travel Fashion Pets Religion Español Standards Quizzes Press Releases My Account Sign in Show Search Menu Pope warns about fake news - from experience Updated 10:50 PM GMT+5:30, December 7, 2016 Share Share Facebook Copy Link copied Print Email X LinkedIn Bluesky Flipboard Pinterest Reddit VATICAN CITY (AP) — Pope Francis is warning about the dangers of fake news, and he should know: Earlier this year, he was reported — falsely — to have endorsed Donald Trump for U.S. president. In an interview published Wednesday with the Belgian Catholic weekly Tertio, Francis repeated a frequent warning of his that the media can fall prey to spreading slander, scandal, defamation and disinformation. He said: “Disinformation is probably the greatest damage that the media can do, as opinion is guided in one direction, neglecting the other part of the truth.” Francis was a victim of fake news spread on social media, including the false claim that he had endorsed Trump. Popes do not endorse political candidates, though he urged Catholic voters to “study the proposals well, pray and choose in conscience.”\", short_description=None, result_rank=None, rank_reason=None, is_youtube=False),\n",
       " BasePayload(url='https://www.sltrib.com/religion/global/2018/01/24/pope-francis-to-deliver-message-decrying-fake-news/', title='Pope Francis to deliver message decrying ‘fake news’', summary=\"Pope Francis to deliver message decrying ‘fake news’ Opens in a new window Opens an external website Opens an external website in a new window Close this dialog This website utilises technologies such as cookies to enable essential site functionality, as well as for analytics, personalisation, and targeted advertising. To learn more, view the following link: Privacy Policy Manage Preferences Close Cookie Preferences SUBSCRIBE LOG IN SUBSCRIBE Pope Francis to deliver message decrying ‘fake news’ (AP Photo/Alessandra Tarantino, Pool) Pope Francis meets with bishops at the archbishop's residence in Lima, Peru, Sunday, Jan. 21, 2018. By Jack Jenkins | Religion News Service | Jan. 24, 2018, 8:04 a.m. | Updated: 8:05 a.m. Comment Pope Francis is preparing an address on “fake news” expected to tackle the thorny issue of journalistic integrity in a speech marking World Communications Day. Francis announced his choice of topic in September, saying the message would be delivered Wednesday — the Catholic feast day of Francis de Sales, patron saint of journalists. “I have chosen this theme for World Communications Day 2018: ‘The truth will set you free’ (John 8:32). Fake news and journalism for peace,” the pontiff tweeted. According to a Vatican news release in September, the pope’s address is expected to promote “professional journalism” over and against “fake news.” The term, made famous by President Donald Trump, was defined by the Vatican’s Secretariat for Communication as “baseless information that contributes to generating and nurturing a strong polarization of opinions.” The pontiff has some personal experience with fake news. During the 2016 election, a satirical news website asserted that Francis endorsed Trump for president. The story was patently false, but became one of the most widely circulated fake news stories on Facebook in advance of the election, according to BuzzFeed. Francis has railed against “fake news” and misleading reporting in the past. During a meeting with journalists at the Vatican in December, he urged reporters not to fall prey to “sins of communication.” According to Newsweek, he explained such “sins” include “disinformation, or giving just one side, calumny that is sensationalized, or defamation, looking for things that are old news and have been dealt with and bringing them to light today.” He added: “They are very grave sins, which damage the heart of the journalist and harm people.” Get Mormon Land newsletter. Explore the news and culture of The Church of Jesus Christ of Latter-day Saints every Thursday. The address comes just days after the pope said sexual abuse victims in Chile were guilty of “calumny” for accusing Bishop Juan Barros of helping to cover up the sex crimes of a priest who is one of Chile’s most notorious pedophiles. Victims reportedly told church authorities about the abuse by the Rev. Fernando Karadimas as early as 2002, but it was only after they went public with their stories in 2010 that a Vatican investigation stripped Karadimas of his ministry. Francis maintained he had seen no proof of wrongdoing by Barros but later apologized for the remarks, saying he understands they were a “slap in the face” to victims. Help The Tribune report the stories others can’t—or won’t. For over 150 years, The Salt Lake Tribune has been Utah’s independent news source. Our reporters work tirelessly to uncover the stories that matter most to Utahns, from unraveling the complexities of court rulings to allowing tax payers to see where and how their hard earned dollars are being spent. This critical work wouldn’t be possible without people like you—individuals who understand the importance of local, independent journalism. As a nonprofit newsroom, every subscription and every donation fuels our mission, supporting the in-depth reporting that shines a light on the is sues shaping Utah today. You can help power this work. $15 $25 $35 DONATE TODAY RELATED STORIES Pope Francis apologizes to abuse victims, but defends Chilean bishop The Amazon is ‘heart of the church,’ Pope Francis tells Peru’s indigenous peoples ‘We can use peace’ — Trump and Pope Francis meet Love is in the air: Pope Francis marries couple on papal plane in Chile Pope Francis denounces indigenous violence in symbolic Chile Mass Pope Francis meets with abuse survivors, weeps with them in Chile Sponsored Story Here’s how Powder Mountain improved passholder experience Sponsored: Get access to Passholder Weekends by purchasing a pass now THE LATEST SPONSORED Harnessing emerging technologies to power your business Man held in ‘No Kings’ shooting to be released, after attorneys say he was ‘unlawfully detained’ SugarHouse Pub reopens under new ownership, six months after underage drinking bust Forsyth Fire destroys multiple homes in Pine Valley, as other fires across southern Utah grow One of those killed at WestFest shooting was pregnant, prosecutor reveals Featured Local Savings By Jack Jenkins | Religion News Service Donate to the newsroom now. The Salt Lake Tribune, Inc. is a 501(c)(3) public charity and contributions are tax deductible search by queryly Advanced Search Sign in\", short_description=None, result_rank=None, rank_reason=None, is_youtube=False),\n",
       " BasePayload(url='https://www.chicagobooth.edu/review/did-fake-news-swing-election-trump', title='Did Fake News Swing the Election for Trump? | Chicago Booth Review', summary=\"Did Fake News Swing the Election for Trump? | Chicago Booth Review This website uses cookies to ensure the best user experience. Privacy & Cookies Notice Accept Cookies Reject Cookies Manage My Cookies Close Manage Cookie Preferences Accept All Cookies Reject All Cookies NECESSARY COOKIES These cookies are essential to enable the services to provide the requested feature, such as remembering you have logged in. ALWAYS ACTIVE Reject | Accept PERFORMANCE AND ANALYTIC COOKIES These cookies are used to collect information on how users interact with Chicago Booth websites allowing us to improve the user experience and optimize our site where needed based on these interactions. All information these cookies collect is aggregated and therefore anonymous. FUNCTIONAL COOKIES These cookies enable the website to provide enhanced functionality and personalization. They may be set by third-party providers whose services we have added to our pages or by us. TARGETING OR ADVERTISING COOKIES These cookies collect information about your browsing habits to make advertising relevant to you and your interests. The cookies will remember the website you have visited, and this information is shared with other parties such as advertising technology service providers and advertisers. SOCIAL MEDIA COOKIES These cookies are used when you share information using a social media sharing button or “like” button on our websites, or you link your account or engage with our content on or through a social media site. The social network will record that you have done this. This information may be linked to targeting/advertising activities. Confirm My Selections Skip to main content The University of Chicago Booth School of Business Chicago Booth Review Monetary Policy Inequality Health Care Climate Change Artificial Intelligence Motivation Jobs All Chicago Booth Review Topics Did Fake News Swing the Election for Trump? Chicago Booth Review Did Fake News Swing the Election for Trump? Monetary Policy Inequality Health Care Climate Change Artificial Intelligence Motivation Jobs All Chicago Booth Review Topics Did Fake News Swing the Election for Trump? By Amy Merrick February 20, 2017 CBR - Economics Share This Page During the US presidential election, many voters read the surprising news that Pope Francis had endorsed Republican Donald Trump . Others read the even more shocking revelation that the Clinton Foundation was tied to a pedophile sex ring operating out of a pizza parlor . Often these articles were shared via social media, and though the stories have been thoroughly debunked, Trump’s poll-defying victory forced the heads of technology companies to face accusations that they helped spread “fake news” about the candidates that swayed voters in Trump’s favor. Facebook COO Sheryl Sandberg said she didn’t believe fake news swung the election , yet the company has since launched efforts to label false stories. Google CEO Sundar Pichai speculated that fake news could have changed the outcome because Trump’s margin of victory was “very narrow”— fewer than 100,000 votes in Wisconsin, Michigan, and Pennsylvania. But while fake news on social media received a lot of attention, there’s reason to doubt it handed Trump the election. Fake articles would need to have been 36 times as persuasive as TV campaign ads to change the election results, according to research by Hunt Allcott of New York University and Matthew Gentzkow of Stanford University. Articles Facebook shares Most fake news favored Trump. The researchers aggregated three separate lists of fake-news articles to create a database of 156 stories that appeared in the three months before the election and were labeled false by reputable third-party sources. (In the study, they define fake news as “news stories that have no factual basis but are presented as facts.”) They find that 115 of the fake stories were pro-Trump/anti-Clinton—the researchers considered a story positive for one candidate if it was negative for the other—while only 41 favored Hillary Clinton, and that the average pro-Trump story was shared more on Facebook (30 million total shares, compared to 7.6 million for the pro-Clinton stories). The average fake headline was shared 386,000 times. Despite the flurry caused by outlandish headlines, most voters considered social media—the primary, though not exclusive, distribution venue for fake news—less influential than more-traditional media outlets as a provider of election news. In an online postelection survey of 1,200 US adults, Allcott and Gentzkow find that only 14 percent named social media as their most important source of election news. Cable TV was the most valuable source for more than 23 percent of those surveyed, while more than 19 percent considered network TV their most important source. The researchers also find that previous polls may have overstated how much fake news voters saw on social media. To test this idea, they created a set of plausible fake-news headlines that were not actually published. An example: “Leaked documents reveal that the Trump campaign planned a scheme to offer to drive Democratic voters to the polls but then take them to the wrong place.” (The researchers refer to these as “placebo” stories.) In the survey, 15 percent of respondents said they recalled seeing the average fake news headline, and 8 percent said they believed it. Yet the results are statistically identical for the placebo headlines, suggesting that survey participants were dramatically overstating their recall. Allcott and Gentzkow estimate that just over 1 percent of people truly recalled seeing the average story. Based on these findings and studies on TV campaign ads, the researchers write, “for fake news to have changed the outcome of the election, a single fake news story would need to have convinced about 0.7 percent of Clinton voters and non-voters who saw it to shift their votes to Trump, a persuasion rate equivalent to seeing 36 television campaign ads.” These results may be a relief to tech-company CEOs, but the findings still indicate significant and troubling voter biases. Heavy social-media users were more likely to believe fake headlines, as were those with no higher education. Republicans were four to eight times as likely as Democrats to report believing pro-Trump headlines; Democrats, meanwhile, were 50–100 percent more likely than Republicans to believe pro-Clinton headlines. People whose social networks were considered politically segregated—with three-quarters or more of their friends preferring the same candidate—also were more likely to report seeing and believing fake news. If your Facebook feed is populated solely by those who share your political leanings, it may be time for a reality check. Works Cited Hunt Allcott and Matthew Gentzkow, “Social Media and Fake News in the 2016 Election,” Working paper, January 2017. Related Chicago Booth Review Topics CBR - Social Media CBR - Economics More from Chicago Booth Review Related Chicago Booth Topics Social Media Economics More from Chicago Booth Your Privacy We want to demonstrate our commitment to your privacy. Please review Chicago Booth's privacy notice , which provides information explaining how and why we collect particular information when you visit our website. Search\", short_description=None, result_rank=None, rank_reason=None, is_youtube=False)]"
      ]
     },
     "execution_count": 6,
     "metadata": {},
     "output_type": "execute_result"
    }
   ],
   "source": [
    "extract_res"
   ]
  },
  {
   "cell_type": "code",
   "execution_count": 1,
   "id": "a202480f",
   "metadata": {},
   "outputs": [
    {
     "name": "stdout",
     "output_type": "stream",
     "text": [
      "Searching for 'Iran and Israel conflict'...\n"
     ]
    },
    {
     "name": "stderr",
     "output_type": "stream",
     "text": [
      "WARNING: [youtube] Falling back to generic n function search\n",
      "         player = https://www.youtube.com/s/player/9fe2e06e/player_ias.vflset/en_US/base.js\n",
      "WARNING: [youtube] geboPsPrfFE: nsig extraction failed: Some formats may be missing\n",
      "         n = -_p8rO0RujwTYViuF ; player = https://www.youtube.com/s/player/9fe2e06e/player_ias.vflset/en_US/base.js\n",
      "WARNING: [youtube] Falling back to generic n function search\n",
      "         player = https://www.youtube.com/s/player/9fe2e06e/player_ias.vflset/en_US/base.js\n",
      "WARNING: [youtube] geboPsPrfFE: nsig extraction failed: Some formats may be missing\n",
      "         n = KdDcBP_LrAGm1xQoO ; player = https://www.youtube.com/s/player/9fe2e06e/player_ias.vflset/en_US/base.js\n",
      "WARNING: [youtube] Falling back to generic n function search\n",
      "         player = https://www.youtube.com/s/player/9fe2e06e/player_ias.vflset/en_US/base.js\n",
      "WARNING: [youtube] geboPsPrfFE: nsig extraction failed: Some formats may be missing\n",
      "         n = 9wf8E2aZoK1IqJ-3Z ; player = https://www.youtube.com/s/player/9fe2e06e/player_ias.vflset/en_US/base.js\n",
      "WARNING: [youtube] geboPsPrfFE: Some web client https formats have been skipped as they are missing a url. The current session may have the SSAP (server-side ads) experiment which interferes with yt-dlp. Please see  https://github.com/yt-dlp/yt-dlp/issues/12482  for more details.\n",
      "WARNING: [youtube] Falling back to generic n function search\n",
      "         player = https://www.youtube.com/s/player/9fe2e06e/player_ias.vflset/en_US/base.js\n",
      "WARNING: [youtube] 0qM1P7uDoMk: nsig extraction failed: Some formats may be missing\n",
      "         n = T8zssRmGccH_KOm5s ; player = https://www.youtube.com/s/player/9fe2e06e/player_ias.vflset/en_US/base.js\n",
      "WARNING: [youtube] Falling back to generic n function search\n",
      "         player = https://www.youtube.com/s/player/9fe2e06e/player_ias.vflset/en_US/base.js\n",
      "WARNING: [youtube] 0qM1P7uDoMk: nsig extraction failed: Some formats may be missing\n",
      "         n = PYicJ8JFB_JM5-hyK ; player = https://www.youtube.com/s/player/9fe2e06e/player_ias.vflset/en_US/base.js\n",
      "WARNING: [youtube] Falling back to generic n function search\n",
      "         player = https://www.youtube.com/s/player/9fe2e06e/player_ias.vflset/en_US/base.js\n",
      "WARNING: [youtube] 0qM1P7uDoMk: nsig extraction failed: Some formats may be missing\n",
      "         n = V9BsCSjJD6tXq86mH ; player = https://www.youtube.com/s/player/9fe2e06e/player_ias.vflset/en_US/base.js\n",
      "WARNING: [youtube] 0qM1P7uDoMk: Some web client https formats have been skipped as they are missing a url. The current session may have the SSAP (server-side ads) experiment which interferes with yt-dlp. Please see  https://github.com/yt-dlp/yt-dlp/issues/12482  for more details.\n",
      "WARNING: [youtube] Falling back to generic n function search\n",
      "         player = https://www.youtube.com/s/player/9fe2e06e/player_ias.vflset/en_US/base.js\n",
      "WARNING: [youtube] taHQS39w4wY: nsig extraction failed: Some formats may be missing\n",
      "         n = aLIst_45E1yrsQPed ; player = https://www.youtube.com/s/player/9fe2e06e/player_ias.vflset/en_US/base.js\n",
      "WARNING: [youtube] Falling back to generic n function search\n",
      "         player = https://www.youtube.com/s/player/9fe2e06e/player_ias.vflset/en_US/base.js\n",
      "WARNING: [youtube] taHQS39w4wY: nsig extraction failed: Some formats may be missing\n",
      "         n = trEcDLLERO2ZTQKaK ; player = https://www.youtube.com/s/player/9fe2e06e/player_ias.vflset/en_US/base.js\n",
      "WARNING: [youtube] Falling back to generic n function search\n",
      "         player = https://www.youtube.com/s/player/9fe2e06e/player_ias.vflset/en_US/base.js\n",
      "WARNING: [youtube] taHQS39w4wY: nsig extraction failed: Some formats may be missing\n",
      "         n = fHAs7oJCAdcraS2X_ ; player = https://www.youtube.com/s/player/9fe2e06e/player_ias.vflset/en_US/base.js\n",
      "WARNING: [youtube] taHQS39w4wY: Some web client https formats have been skipped as they are missing a url. The current session may have the SSAP (server-side ads) experiment which interferes with yt-dlp. Please see  https://github.com/yt-dlp/yt-dlp/issues/12482  for more details.\n",
      "WARNING: [youtube] Falling back to generic n function search\n",
      "         player = https://www.youtube.com/s/player/9fe2e06e/player_ias.vflset/en_US/base.js\n",
      "WARNING: [youtube] ifw2npzD128: nsig extraction failed: Some formats may be missing\n",
      "         n = rh-cKLi0bHYTL9qZY ; player = https://www.youtube.com/s/player/9fe2e06e/player_ias.vflset/en_US/base.js\n",
      "WARNING: [youtube] Falling back to generic n function search\n",
      "         player = https://www.youtube.com/s/player/9fe2e06e/player_ias.vflset/en_US/base.js\n",
      "WARNING: [youtube] ifw2npzD128: nsig extraction failed: Some formats may be missing\n",
      "         n = Ofs8wMD6k78uKR4cg ; player = https://www.youtube.com/s/player/9fe2e06e/player_ias.vflset/en_US/base.js\n",
      "WARNING: [youtube] Falling back to generic n function search\n",
      "         player = https://www.youtube.com/s/player/9fe2e06e/player_ias.vflset/en_US/base.js\n",
      "WARNING: [youtube] ifw2npzD128: nsig extraction failed: Some formats may be missing\n",
      "         n = 8VAcAe3H96xiwxjS1 ; player = https://www.youtube.com/s/player/9fe2e06e/player_ias.vflset/en_US/base.js\n",
      "WARNING: [youtube] ifw2npzD128: Some web client https formats have been skipped as they are missing a url. The current session may have the SSAP (server-side ads) experiment which interferes with yt-dlp. Please see  https://github.com/yt-dlp/yt-dlp/issues/12482  for more details.\n",
      "WARNING: [youtube] Falling back to generic n function search\n",
      "         player = https://www.youtube.com/s/player/9fe2e06e/player_ias.vflset/en_US/base.js\n",
      "WARNING: [youtube] qs9mMH_tLrE: nsig extraction failed: Some formats may be missing\n",
      "         n = GpEsPJbJhkatCO8NB ; player = https://www.youtube.com/s/player/9fe2e06e/player_ias.vflset/en_US/base.js\n",
      "WARNING: [youtube] Falling back to generic n function search\n",
      "         player = https://www.youtube.com/s/player/9fe2e06e/player_ias.vflset/en_US/base.js\n",
      "WARNING: [youtube] qs9mMH_tLrE: nsig extraction failed: Some formats may be missing\n",
      "         n = mGUspIhdzWatU7n1q ; player = https://www.youtube.com/s/player/9fe2e06e/player_ias.vflset/en_US/base.js\n",
      "WARNING: [youtube] Falling back to generic n function search\n",
      "         player = https://www.youtube.com/s/player/9fe2e06e/player_ias.vflset/en_US/base.js\n",
      "WARNING: [youtube] qs9mMH_tLrE: nsig extraction failed: Some formats may be missing\n",
      "         n = Hljss8X3klJcAtqEU ; player = https://www.youtube.com/s/player/9fe2e06e/player_ias.vflset/en_US/base.js\n",
      "WARNING: [youtube] qs9mMH_tLrE: Some web client https formats have been skipped as they are missing a url. The current session may have the SSAP (server-side ads) experiment which interferes with yt-dlp. Please see  https://github.com/yt-dlp/yt-dlp/issues/12482  for more details.\n",
      "WARNING: [youtube] Falling back to generic n function search\n",
      "         player = https://www.youtube.com/s/player/9fe2e06e/player_ias.vflset/en_US/base.js\n",
      "WARNING: [youtube] Hk6icoJs2Ws: nsig extraction failed: Some formats may be missing\n",
      "         n = is-8xDo5VBTJUg8w8 ; player = https://www.youtube.com/s/player/9fe2e06e/player_ias.vflset/en_US/base.js\n",
      "WARNING: [youtube] Falling back to generic n function search\n",
      "         player = https://www.youtube.com/s/player/9fe2e06e/player_ias.vflset/en_US/base.js\n",
      "WARNING: [youtube] Hk6icoJs2Ws: nsig extraction failed: Some formats may be missing\n",
      "         n = bhw8swCcMd8CnDDbs ; player = https://www.youtube.com/s/player/9fe2e06e/player_ias.vflset/en_US/base.js\n",
      "WARNING: [youtube] Falling back to generic n function search\n",
      "         player = https://www.youtube.com/s/player/9fe2e06e/player_ias.vflset/en_US/base.js\n",
      "WARNING: [youtube] Hk6icoJs2Ws: nsig extraction failed: Some formats may be missing\n",
      "         n = HcmsGEGE76lp0J_TL ; player = https://www.youtube.com/s/player/9fe2e06e/player_ias.vflset/en_US/base.js\n",
      "WARNING: [youtube] Hk6icoJs2Ws: Some web client https formats have been skipped as they are missing a url. The current session may have the SSAP (server-side ads) experiment which interferes with yt-dlp. Please see  https://github.com/yt-dlp/yt-dlp/issues/12482  for more details.\n",
      "WARNING: [youtube] Falling back to generic n function search\n",
      "         player = https://www.youtube.com/s/player/9fe2e06e/player_ias.vflset/en_US/base.js\n",
      "WARNING: [youtube] t6dR9btIRN8: nsig extraction failed: Some formats may be missing\n",
      "         n = w7ScJnO9pUYNOzM-R ; player = https://www.youtube.com/s/player/9fe2e06e/player_ias.vflset/en_US/base.js\n",
      "WARNING: [youtube] Falling back to generic n function search\n",
      "         player = https://www.youtube.com/s/player/9fe2e06e/player_ias.vflset/en_US/base.js\n",
      "WARNING: [youtube] t6dR9btIRN8: nsig extraction failed: Some formats may be missing\n",
      "         n = tiJs8gI-QRIrhBtOJ ; player = https://www.youtube.com/s/player/9fe2e06e/player_ias.vflset/en_US/base.js\n",
      "WARNING: [youtube] Falling back to generic n function search\n",
      "         player = https://www.youtube.com/s/player/9fe2e06e/player_ias.vflset/en_US/base.js\n",
      "WARNING: [youtube] t6dR9btIRN8: nsig extraction failed: Some formats may be missing\n",
      "         n = a6OMYQaQ6wIyIUHI_ ; player = https://www.youtube.com/s/player/9fe2e06e/player_ias.vflset/en_US/base.js\n",
      "WARNING: [youtube] t6dR9btIRN8: Some web client https formats have been skipped as they are missing a url. The current session may have the SSAP (server-side ads) experiment which interferes with yt-dlp. Please see  https://github.com/yt-dlp/yt-dlp/issues/12482  for more details.\n",
      "WARNING: [youtube] Falling back to generic n function search\n",
      "         player = https://www.youtube.com/s/player/9fe2e06e/player_ias.vflset/en_US/base.js\n",
      "WARNING: [youtube] 7N9BeWW-zkQ: nsig extraction failed: Some formats may be missing\n",
      "         n = coYsDXAqgXm_weCIj ; player = https://www.youtube.com/s/player/9fe2e06e/player_ias.vflset/en_US/base.js\n",
      "WARNING: [youtube] Falling back to generic n function search\n",
      "         player = https://www.youtube.com/s/player/9fe2e06e/player_ias.vflset/en_US/base.js\n",
      "WARNING: [youtube] 7N9BeWW-zkQ: nsig extraction failed: Some formats may be missing\n",
      "         n = Lo2cpl4jsbJutG0Yn ; player = https://www.youtube.com/s/player/9fe2e06e/player_ias.vflset/en_US/base.js\n",
      "WARNING: [youtube] Falling back to generic n function search\n",
      "         player = https://www.youtube.com/s/player/9fe2e06e/player_ias.vflset/en_US/base.js\n",
      "WARNING: [youtube] 7N9BeWW-zkQ: nsig extraction failed: Some formats may be missing\n",
      "         n = NEHM8GCUXhK-FW8DI ; player = https://www.youtube.com/s/player/9fe2e06e/player_ias.vflset/en_US/base.js\n",
      "WARNING: [youtube] 7N9BeWW-zkQ: Some web client https formats have been skipped as they are missing a url. The current session may have the SSAP (server-side ads) experiment which interferes with yt-dlp. Please see  https://github.com/yt-dlp/yt-dlp/issues/12482  for more details.\n",
      "WARNING: [youtube] Falling back to generic n function search\n",
      "         player = https://www.youtube.com/s/player/9fe2e06e/player_ias.vflset/en_US/base.js\n",
      "WARNING: [youtube] HwMk4adT0Vk: nsig extraction failed: Some formats may be missing\n",
      "         n = LQSc4CU3cDQRADVpO ; player = https://www.youtube.com/s/player/9fe2e06e/player_ias.vflset/en_US/base.js\n",
      "WARNING: [youtube] Falling back to generic n function search\n",
      "         player = https://www.youtube.com/s/player/9fe2e06e/player_ias.vflset/en_US/base.js\n",
      "WARNING: [youtube] HwMk4adT0Vk: nsig extraction failed: Some formats may be missing\n",
      "         n = jQkcrIgol-_1ffUDB ; player = https://www.youtube.com/s/player/9fe2e06e/player_ias.vflset/en_US/base.js\n",
      "WARNING: [youtube] Falling back to generic n function search\n",
      "         player = https://www.youtube.com/s/player/9fe2e06e/player_ias.vflset/en_US/base.js\n",
      "WARNING: [youtube] HwMk4adT0Vk: nsig extraction failed: Some formats may be missing\n",
      "         n = MoL8_VdF-S5XqG0aA ; player = https://www.youtube.com/s/player/9fe2e06e/player_ias.vflset/en_US/base.js\n",
      "WARNING: [youtube] HwMk4adT0Vk: Some web client https formats have been skipped as they are missing a url. The current session may have the SSAP (server-side ads) experiment which interferes with yt-dlp. Please see  https://github.com/yt-dlp/yt-dlp/issues/12482  for more details.\n",
      "WARNING: [youtube] Falling back to generic n function search\n",
      "         player = https://www.youtube.com/s/player/9fe2e06e/player_ias.vflset/en_US/base.js\n",
      "WARNING: [youtube] DMehnY6jcl8: nsig extraction failed: Some formats may be missing\n",
      "         n = 8dbcZrlosSJlOhcAn ; player = https://www.youtube.com/s/player/9fe2e06e/player_ias.vflset/en_US/base.js\n",
      "WARNING: [youtube] Falling back to generic n function search\n",
      "         player = https://www.youtube.com/s/player/9fe2e06e/player_ias.vflset/en_US/base.js\n",
      "WARNING: [youtube] DMehnY6jcl8: nsig extraction failed: Some formats may be missing\n",
      "         n = Z6pMbK4JR_iAc_CsS ; player = https://www.youtube.com/s/player/9fe2e06e/player_ias.vflset/en_US/base.js\n",
      "WARNING: [youtube] Falling back to generic n function search\n",
      "         player = https://www.youtube.com/s/player/9fe2e06e/player_ias.vflset/en_US/base.js\n",
      "WARNING: [youtube] DMehnY6jcl8: nsig extraction failed: Some formats may be missing\n",
      "         n = 6RpclaE2dB69Q5WHU ; player = https://www.youtube.com/s/player/9fe2e06e/player_ias.vflset/en_US/base.js\n",
      "WARNING: [youtube] DMehnY6jcl8: Some web client https formats have been skipped as they are missing a url. The current session may have the SSAP (server-side ads) experiment which interferes with yt-dlp. Please see  https://github.com/yt-dlp/yt-dlp/issues/12482  for more details.\n",
      "WARNING: [youtube] Falling back to generic n function search\n",
      "         player = https://www.youtube.com/s/player/9fe2e06e/player_ias.vflset/en_US/base.js\n",
      "WARNING: [youtube] LacPH0thzac: nsig extraction failed: Some formats may be missing\n",
      "         n = s5scsmnhdm9dOGzRa ; player = https://www.youtube.com/s/player/9fe2e06e/player_ias.vflset/en_US/base.js\n",
      "WARNING: [youtube] Falling back to generic n function search\n",
      "         player = https://www.youtube.com/s/player/9fe2e06e/player_ias.vflset/en_US/base.js\n",
      "WARNING: [youtube] LacPH0thzac: nsig extraction failed: Some formats may be missing\n",
      "         n = sD-sfBW4zRml0LDSG ; player = https://www.youtube.com/s/player/9fe2e06e/player_ias.vflset/en_US/base.js\n",
      "WARNING: [youtube] Falling back to generic n function search\n",
      "         player = https://www.youtube.com/s/player/9fe2e06e/player_ias.vflset/en_US/base.js\n",
      "WARNING: [youtube] LacPH0thzac: nsig extraction failed: Some formats may be missing\n",
      "         n = IMe8lJVRJgWJNljtn ; player = https://www.youtube.com/s/player/9fe2e06e/player_ias.vflset/en_US/base.js\n",
      "WARNING: [youtube] LacPH0thzac: Some web client https formats have been skipped as they are missing a url. The current session may have the SSAP (server-side ads) experiment which interferes with yt-dlp. Please see  https://github.com/yt-dlp/yt-dlp/issues/12482  for more details.\n",
      "WARNING: [youtube] Falling back to generic n function search\n",
      "         player = https://www.youtube.com/s/player/9fe2e06e/player_ias.vflset/en_US/base.js\n",
      "WARNING: [youtube] iF5e6t4Mv4Y: nsig extraction failed: Some formats may be missing\n",
      "         n = J9Qs28ppdZy-OpfGb ; player = https://www.youtube.com/s/player/9fe2e06e/player_ias.vflset/en_US/base.js\n",
      "WARNING: [youtube] Falling back to generic n function search\n",
      "         player = https://www.youtube.com/s/player/9fe2e06e/player_ias.vflset/en_US/base.js\n",
      "WARNING: [youtube] iF5e6t4Mv4Y: nsig extraction failed: Some formats may be missing\n",
      "         n = -kU8W9GQ3OXycnDRd ; player = https://www.youtube.com/s/player/9fe2e06e/player_ias.vflset/en_US/base.js\n",
      "WARNING: [youtube] Falling back to generic n function search\n",
      "         player = https://www.youtube.com/s/player/9fe2e06e/player_ias.vflset/en_US/base.js\n",
      "WARNING: [youtube] iF5e6t4Mv4Y: nsig extraction failed: Some formats may be missing\n",
      "         n = e0tMdT7eDaAUSb9vQ ; player = https://www.youtube.com/s/player/9fe2e06e/player_ias.vflset/en_US/base.js\n",
      "WARNING: [youtube] iF5e6t4Mv4Y: Some web client https formats have been skipped as they are missing a url. The current session may have the SSAP (server-side ads) experiment which interferes with yt-dlp. Please see  https://github.com/yt-dlp/yt-dlp/issues/12482  for more details.\n",
      "WARNING: [youtube] Falling back to generic n function search\n",
      "         player = https://www.youtube.com/s/player/9fe2e06e/player_ias.vflset/en_US/base.js\n",
      "WARNING: [youtube] BwXP3foZShM: nsig extraction failed: Some formats may be missing\n",
      "         n = QX_cna51wMQO_If3I ; player = https://www.youtube.com/s/player/9fe2e06e/player_ias.vflset/en_US/base.js\n",
      "WARNING: [youtube] Falling back to generic n function search\n",
      "         player = https://www.youtube.com/s/player/9fe2e06e/player_ias.vflset/en_US/base.js\n",
      "WARNING: [youtube] BwXP3foZShM: nsig extraction failed: Some formats may be missing\n",
      "         n = lUUM3u8_Nr77c9N6P ; player = https://www.youtube.com/s/player/9fe2e06e/player_ias.vflset/en_US/base.js\n",
      "WARNING: [youtube] Falling back to generic n function search\n",
      "         player = https://www.youtube.com/s/player/9fe2e06e/player_ias.vflset/en_US/base.js\n",
      "WARNING: [youtube] BwXP3foZShM: nsig extraction failed: Some formats may be missing\n",
      "         n = 96v8stxv0Yz9Wt1gF ; player = https://www.youtube.com/s/player/9fe2e06e/player_ias.vflset/en_US/base.js\n",
      "WARNING: [youtube] BwXP3foZShM: Some web client https formats have been skipped as they are missing a url. The current session may have the SSAP (server-side ads) experiment which interferes with yt-dlp. Please see  https://github.com/yt-dlp/yt-dlp/issues/12482  for more details.\n",
      "WARNING: [youtube] Falling back to generic n function search\n",
      "         player = https://www.youtube.com/s/player/9fe2e06e/player_ias.vflset/en_US/base.js\n",
      "WARNING: [youtube] yThm4Pbep2E: nsig extraction failed: Some formats may be missing\n",
      "         n = 59NssLwEWZ1klQlph ; player = https://www.youtube.com/s/player/9fe2e06e/player_ias.vflset/en_US/base.js\n",
      "WARNING: [youtube] Falling back to generic n function search\n",
      "         player = https://www.youtube.com/s/player/9fe2e06e/player_ias.vflset/en_US/base.js\n",
      "WARNING: [youtube] yThm4Pbep2E: nsig extraction failed: Some formats may be missing\n",
      "         n = jR78bojn78kminMWZ ; player = https://www.youtube.com/s/player/9fe2e06e/player_ias.vflset/en_US/base.js\n",
      "WARNING: [youtube] Falling back to generic n function search\n",
      "         player = https://www.youtube.com/s/player/9fe2e06e/player_ias.vflset/en_US/base.js\n",
      "WARNING: [youtube] yThm4Pbep2E: nsig extraction failed: Some formats may be missing\n",
      "         n = rgrcuu4Yu_71rKrT1 ; player = https://www.youtube.com/s/player/9fe2e06e/player_ias.vflset/en_US/base.js\n",
      "WARNING: [youtube] yThm4Pbep2E: Some web client https formats have been skipped as they are missing a url. The current session may have the SSAP (server-side ads) experiment which interferes with yt-dlp. Please see  https://github.com/yt-dlp/yt-dlp/issues/12482  for more details.\n",
      "WARNING: [youtube] Falling back to generic n function search\n",
      "         player = https://www.youtube.com/s/player/9fe2e06e/player_ias.vflset/en_US/base.js\n",
      "WARNING: [youtube] 9ifUNtKwlBw: nsig extraction failed: Some formats may be missing\n",
      "         n = LjLM2x8cdI4qVRYOK ; player = https://www.youtube.com/s/player/9fe2e06e/player_ias.vflset/en_US/base.js\n",
      "WARNING: [youtube] Falling back to generic n function search\n",
      "         player = https://www.youtube.com/s/player/9fe2e06e/player_ias.vflset/en_US/base.js\n",
      "WARNING: [youtube] 9ifUNtKwlBw: nsig extraction failed: Some formats may be missing\n",
      "         n = CTIsM8cFoUl6zyICF ; player = https://www.youtube.com/s/player/9fe2e06e/player_ias.vflset/en_US/base.js\n",
      "WARNING: [youtube] Falling back to generic n function search\n",
      "         player = https://www.youtube.com/s/player/9fe2e06e/player_ias.vflset/en_US/base.js\n",
      "WARNING: [youtube] 9ifUNtKwlBw: nsig extraction failed: Some formats may be missing\n",
      "         n = FgJs6OrdYgTQhCiT3 ; player = https://www.youtube.com/s/player/9fe2e06e/player_ias.vflset/en_US/base.js\n",
      "WARNING: [youtube] 9ifUNtKwlBw: Some web client https formats have been skipped as they are missing a url. The current session may have the SSAP (server-side ads) experiment which interferes with yt-dlp. Please see  https://github.com/yt-dlp/yt-dlp/issues/12482  for more details.\n",
      "WARNING: [youtube] Falling back to generic n function search\n",
      "         player = https://www.youtube.com/s/player/9fe2e06e/player_ias.vflset/en_US/base.js\n",
      "WARNING: [youtube] QqPTAT-p_5I: nsig extraction failed: Some formats may be missing\n",
      "         n = OHk836IqOUfUK4BdZ ; player = https://www.youtube.com/s/player/9fe2e06e/player_ias.vflset/en_US/base.js\n",
      "WARNING: [youtube] Falling back to generic n function search\n",
      "         player = https://www.youtube.com/s/player/9fe2e06e/player_ias.vflset/en_US/base.js\n",
      "WARNING: [youtube] QqPTAT-p_5I: nsig extraction failed: Some formats may be missing\n",
      "         n = Z_t8cF1DDpThzSUha ; player = https://www.youtube.com/s/player/9fe2e06e/player_ias.vflset/en_US/base.js\n",
      "WARNING: [youtube] Falling back to generic n function search\n",
      "         player = https://www.youtube.com/s/player/9fe2e06e/player_ias.vflset/en_US/base.js\n",
      "WARNING: [youtube] QqPTAT-p_5I: nsig extraction failed: Some formats may be missing\n",
      "         n = QlaMKgPXoFmav3z7E ; player = https://www.youtube.com/s/player/9fe2e06e/player_ias.vflset/en_US/base.js\n",
      "WARNING: [youtube] QqPTAT-p_5I: Some web client https formats have been skipped as they are missing a url. The current session may have the SSAP (server-side ads) experiment which interferes with yt-dlp. Please see  https://github.com/yt-dlp/yt-dlp/issues/12482  for more details.\n",
      "WARNING: [youtube] Falling back to generic n function search\n",
      "         player = https://www.youtube.com/s/player/9fe2e06e/player_ias.vflset/en_US/base.js\n",
      "WARNING: [youtube] rTViOw8tfm0: nsig extraction failed: Some formats may be missing\n",
      "         n = OVL84UgmUEjjEuP_P ; player = https://www.youtube.com/s/player/9fe2e06e/player_ias.vflset/en_US/base.js\n",
      "WARNING: [youtube] Falling back to generic n function search\n",
      "         player = https://www.youtube.com/s/player/9fe2e06e/player_ias.vflset/en_US/base.js\n",
      "WARNING: [youtube] rTViOw8tfm0: nsig extraction failed: Some formats may be missing\n",
      "         n = mYBcy4yJPhIOWtgUd ; player = https://www.youtube.com/s/player/9fe2e06e/player_ias.vflset/en_US/base.js\n",
      "WARNING: [youtube] Falling back to generic n function search\n",
      "         player = https://www.youtube.com/s/player/9fe2e06e/player_ias.vflset/en_US/base.js\n",
      "WARNING: [youtube] rTViOw8tfm0: nsig extraction failed: Some formats may be missing\n",
      "         n = O1bM3Z5oH66WqT8RD ; player = https://www.youtube.com/s/player/9fe2e06e/player_ias.vflset/en_US/base.js\n",
      "WARNING: [youtube] rTViOw8tfm0: Some web client https formats have been skipped as they are missing a url. The current session may have the SSAP (server-side ads) experiment which interferes with yt-dlp. Please see  https://github.com/yt-dlp/yt-dlp/issues/12482  for more details.\n"
     ]
    }
   ],
   "source": [
    "from fact_checker_agent.tool.youtube_metadata_executor import search_youtube_urls_by_duration\n",
    "\n",
    "\n",
    "search_query = \"Iran and Israel conflict\"\n",
    "print(f\"Searching for '{search_query}'...\")\n",
    "video_urls = search_youtube_urls_by_duration(search_query)"
   ]
  },
  {
   "cell_type": "code",
   "execution_count": 2,
   "id": "bd3a9e62",
   "metadata": {},
   "outputs": [
    {
     "data": {
      "text/plain": [
       "['https://www.youtube.com/watch?v=taHQS39w4wY',\n",
       " 'https://www.youtube.com/watch?v=ifw2npzD128',\n",
       " 'https://www.youtube.com/watch?v=yThm4Pbep2E',\n",
       " 'https://www.youtube.com/watch?v=QqPTAT-p_5I']"
      ]
     },
     "execution_count": 2,
     "metadata": {},
     "output_type": "execute_result"
    }
   ],
   "source": [
    "video_urls"
   ]
  },
  {
   "cell_type": "code",
   "execution_count": 3,
   "id": "731212f6",
   "metadata": {},
   "outputs": [],
   "source": [
    "from fact_checker_agent.tool.llm_calls import generate_ytd_summary\n",
    "\n",
    "\n",
    "res = generate_ytd_summary(url = 'https://www.youtube.com/watch?v=QqPTAT-p_5I', query=\"Iran and Israel conflict\")"
   ]
  },
  {
   "cell_type": "code",
   "execution_count": 14,
   "id": "1b774fc6",
   "metadata": {},
   "outputs": [
    {
     "data": {
      "text/plain": [
       "{'url': 'https://www.youtube.com/watch?v=F_fP45zG2Bw',\n",
       " 'title': None,\n",
       " 'summary': None,\n",
       " 'short_description': None,\n",
       " 'result_rank': None,\n",
       " 'rank_reason': None,\n",
       " 'is_youtube': True,\n",
       " 'query': 'text summary of this video',\n",
       " 'relative_percent': 100.0,\n",
       " 'video_title': 'Trump considering using American forces against Iran, hospital in Israel damaged in missile attack',\n",
       " 'summary_of_video': \"Donald Trump has stated that he will not make a decision on whether to use American forces against Iran until the last possible moment. Sources claim that Trump approved an attack plan during a meeting in the White House war room. Meanwhile, a fresh volley of missiles was fired at Tel Aviv, damaging an Israeli hospital. In southern Israel, a direct hit on a hospital in Beersheva was reported. This occurred just a few hours ago. In downtown Tel Aviv, a huge explosion was reported. Iran's Supreme Leader, Ali Khamenei, has warned that any American intervention will result in irreparable damage. The White House has reportedly agreed on an attack plan but has withheld the order to execute. Polling shows that Americans are against the war, with a 2-to-1 ratio wanting none of it. Australia has stated that it will not be joining the war. There are 1,500 Australians in Iran and 1,200 in Israel who are hoping for help to get out. The government has stated that there are hard limits on what they can do to help.\"}"
      ]
     },
     "execution_count": 14,
     "metadata": {},
     "output_type": "execute_result"
    }
   ],
   "source": [
    "res.parsed.model_dump()"
   ]
  },
  {
   "cell_type": "code",
   "execution_count": null,
   "id": "36298028",
   "metadata": {},
   "outputs": [],
   "source": []
  }
 ],
 "metadata": {
  "kernelspec": {
   "display_name": "p_dev",
   "language": "python",
   "name": "python3"
  },
  "language_info": {
   "codemirror_mode": {
    "name": "ipython",
    "version": 3
   },
   "file_extension": ".py",
   "mimetype": "text/x-python",
   "name": "python",
   "nbconvert_exporter": "python",
   "pygments_lexer": "ipython3",
   "version": "3.11.8"
  }
 },
 "nbformat": 4,
 "nbformat_minor": 5
}
